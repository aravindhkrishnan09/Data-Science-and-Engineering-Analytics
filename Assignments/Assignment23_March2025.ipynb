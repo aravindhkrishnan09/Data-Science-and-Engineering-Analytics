{
 "cells": [
  {
   "cell_type": "markdown",
   "metadata": {
    "id": "8f-azRXNDP4X"
   },
   "source": [
    "# NumPy"
   ]
  },
  {
   "cell_type": "code",
   "execution_count": 1,
   "metadata": {
    "colab": {
     "base_uri": "https://localhost:8080/"
    },
    "executionInfo": {
     "elapsed": 22,
     "status": "ok",
     "timestamp": 1743232679558,
     "user": {
      "displayName": "Aravindh G",
      "userId": "04385603378061808080"
     },
     "user_tz": -330
    },
    "id": "-WPN8vTzwIH7",
    "outputId": "57a230b8-41c0-4ded-99ff-95e6108b0360"
   },
   "outputs": [
    {
     "name": "stdout",
     "output_type": "stream",
     "text": [
      "[23, 26, 9, 50, 47, 12]\n"
     ]
    }
   ],
   "source": [
    "#1.\tThe Lucky Lottery Generator: Create a random lottery ticket generator that selects 6 unique numbers between 1 and 50\n",
    "\n",
    "import random\n",
    "\n",
    "def generate_lottery_ticket():\n",
    "    lottery_ticket = random.sample(range(1, 51), 6)\n",
    "    return lottery_ticket\n",
    "\n",
    "lottery_ticket = generate_lottery_ticket()\n",
    "print(lottery_ticket)"
   ]
  },
  {
   "cell_type": "code",
   "execution_count": 14,
   "metadata": {
    "colab": {
     "base_uri": "https://localhost:8080/"
    },
    "executionInfo": {
     "elapsed": 17,
     "status": "ok",
     "timestamp": 1743232657596,
     "user": {
      "displayName": "Aravindh G",
      "userId": "04385603378061808080"
     },
     "user_tz": -330
    },
    "id": "08qWwLTKwqni",
    "outputId": "b1023eb2-0ce0-4e30-b317-7b4b117b654c"
   },
   "outputs": [
    {
     "name": "stdout",
     "output_type": "stream",
     "text": [
      "[14 40 31 46 18 49]\n"
     ]
    }
   ],
   "source": [
    "import numpy as np\n",
    "\n",
    "def generate_lottery_ticket():\n",
    "    np.random.seed(42)\n",
    "    lottery_ticket = np.random.choice(range(1, 51), size=6, replace=False)\n",
    "    return lottery_ticket\n",
    "\n",
    "lottery_ticket = generate_lottery_ticket()\n",
    "print(lottery_ticket)"
   ]
  },
  {
   "cell_type": "code",
   "execution_count": 11,
   "metadata": {
    "colab": {
     "base_uri": "https://localhost:8080/",
     "height": 88
    },
    "executionInfo": {
     "elapsed": 14,
     "status": "ok",
     "timestamp": 1743233801453,
     "user": {
      "displayName": "Aravindh G",
      "userId": "04385603378061808080"
     },
     "user_tz": -330
    },
    "id": "MHo0o7LJxIvJ",
    "outputId": "f310f6ed-a49b-4b3f-f9e7-ad77318d72c3"
   },
   "outputs": [
    {
     "name": "stdout",
     "output_type": "stream",
     "text": [
      "0.02294635772705078\n",
      "0.001325368881225586\n",
      "Array is faster\n"
     ]
    },
    {
     "data": {
      "application/vnd.google.colaboratory.intrinsic+json": {
       "type": "string"
      },
      "text/plain": [
       "'Array is faster'"
      ]
     },
     "execution_count": 11,
     "metadata": {},
     "output_type": "execute_result"
    }
   ],
   "source": [
    "#2. The Fastest List in the West\n",
    "\n",
    "import numpy as np\n",
    "import time\n",
    "\n",
    "start_time = time.time()\n",
    "list_of_1million = list(range(1, 1000001))\n",
    "end_time = time.time()\n",
    "lists = end_time - start_time\n",
    "print(lists)\n",
    "#print(list_of_1million)\n",
    "\n",
    "start_time = time.time()\n",
    "array_of_1million = np.arange(1, 1000001, dtype=int)\n",
    "end_time = time.time()\n",
    "array = end_time - start_time\n",
    "print(array)\n",
    "#print(array_of_1million)\n",
    "\n",
    "if lists > array:\n",
    "    print(\"Array is faster\")\n",
    "else:\n",
    "    print(\"List is faster\")\n",
    "\n",
    "\n",
    "\"Array is faster\" if lists > array else \"List is faster\"\n"
   ]
  },
  {
   "cell_type": "code",
   "execution_count": null,
   "metadata": {
    "id": "cIjC_wW5_HHY"
   },
   "outputs": [],
   "source": [
    "#3.\tNumPy Temperature Converter\n",
    "\n",
    "import numpy as np\n",
    "import pandas as pd\n",
    "\n",
    "def celsius_to_fahrenheit(celsius):\n",
    "    fahrenheit = (celsius * 9/5) + 32\n",
    "    return fahrenheit\n",
    "\n",
    "def fahrenheit_to_celsius(fahrenheit):\n",
    "    celsius = (fahrenheit - 32) * 5/9\n",
    "    return celsius\n",
    "\n",
    "def celsius_to_kelvin(celsius):\n",
    "    kelvin = celsius + 273.15\n",
    "    return kelvin\n",
    "\n",
    "def fahrenheit_to_kelvin(fahrenheit):\n",
    "    celsius = (fahrenheit - 32) * 5/9\n",
    "    kelvin = celsius + 273.15\n",
    "    return kelvin\n",
    "\n",
    "while True:\n",
    "\n",
    "  print('1. Celsius to Fahrenheit')\n",
    "  print('2. Fahrenheit to Celsius')\n",
    "  print('3. Celsius to Kelvin')\n",
    "  print('4. Fahrenheit to Kelvin')\n",
    "  print('5. Exit')\n",
    "\n",
    "  array = int(input(f\"Enter the conversion type number: \"))\n",
    "  if  array == 1:\n",
    "      celsius = float(input(\"Enter the temperature in Celsius: \"))\n",
    "      fahrenheit = celsius_to_fahrenheit(celsius)\n",
    "      print(f\"{celsius} degrees Celsius is equal to {fahrenheit} degrees Fahrenheit. \\n\")\n",
    "  elif array == 2:\n",
    "      fahrenheit = float(input(\"Enter the temperature in Fahrenheit: \"))\n",
    "      celsius = fahrenheit_to_celsius(fahrenheit)\n",
    "      print(f\"{fahrenheit} degrees Fahrenheit is equal to {celsius} degrees Celsius. \\n\")\n",
    "  elif array == 3:\n",
    "      celsius = float(input(\"Enter the temperature in Celsius: \"))\n",
    "      kelvin = celsius_to_kelvin(celsius)\n",
    "      print(f\"{celsius} degrees Celsius is equal to {kelvin} degrees Kelvin. \\n\")\n",
    "  elif array == 4:\n",
    "      fahrenheit = float(input(\"Enter the temperature in Fahrenheit: \"))\n",
    "      kelvin = fahrenheit_to_kelvin(fahrenheit)\n",
    "      print(f\"{fahrenheit} degrees Fahrenheit is equal to {kelvin} degrees Kelvin. \\n\")\n",
    "  elif array == 5:\n",
    "    break\n",
    "  else:\n",
    "    print(\"Invalid conversion type. \\n\")\n"
   ]
  },
  {
   "cell_type": "code",
   "execution_count": 47,
   "metadata": {
    "colab": {
     "base_uri": "https://localhost:8080/"
    },
    "executionInfo": {
     "elapsed": 16,
     "status": "ok",
     "timestamp": 1743237097364,
     "user": {
      "displayName": "Aravindh G",
      "userId": "04385603378061808080"
     },
     "user_tz": -330
    },
    "id": "I33GTmVF_YGp",
    "outputId": "7d8ee5a7-34a3-4662-da86-910ae30cebeb"
   },
   "outputs": [
    {
     "name": "stdout",
     "output_type": "stream",
     "text": [
      "[['AI' 'Data' 'Python' 'ML' 'Deep Learning']\n",
      " ['Algorithm' 'Big Data' 'NumPy' 'Pandas' 'TensorFlow']\n",
      " ['Neural Network' 'Statistics' 'Optimization' 'Regression'\n",
      "  'Classification']\n",
      " ['Clustering' 'GPU' 'Cloud' 'API' 'Blockchain']\n",
      " ['Automation' 'Visualization' 'SQL' 'Database' 'Chatbot']] \n",
      "\n",
      "[['ML' 'Pandas' 'NumPy' 'Automation' 'Data']\n",
      " ['Deep Learning' 'Blockchain' 'GPU' 'Optimization' 'Python']\n",
      " ['SQL' 'Statistics' 'FREE' 'Cloud' 'Big Data']\n",
      " ['TensorFlow' 'Clustering' 'Classification' 'API' 'Neural Network']\n",
      " ['Regression' 'Algorithm' 'Visualization' 'Database' 'Chatbot']]\n"
     ]
    }
   ],
   "source": [
    "# 4.\tThe NumPy Buzzword Bingo\n",
    "\n",
    "import numpy as np\n",
    "\n",
    "words = np.array([\"AI\", \"Data\", \"Python\", \"ML\", \"Deep Learning\", \"Algorithm\", \"Big Data\", \"NumPy\", \"Pandas\", \"TensorFlow\", \"Neural Network\", \"Statistics\", \"Optimization\", \"Regression\", \"Classification\", \"Clustering\", \"GPU\", \"Cloud\", \"API\", \"Blockchain\", \"Automation\", \"Visualization\", \"SQL\", \"Database\", \"Chatbot\"])\n",
    "array = words.reshape(5,5)\n",
    "print(array,\"\\n\")\n",
    "\n",
    "# Shuffle and select 24 words (excluding the center)\n",
    "np.random.shuffle(words)\n",
    "board = array[:24]\n",
    "\n",
    "# Insert \"FREE\" in the center\n",
    "board[2, 2] = \"FREE\"\n",
    "print(board)\n"
   ]
  },
  {
   "cell_type": "code",
   "execution_count": 58,
   "metadata": {
    "colab": {
     "base_uri": "https://localhost:8080/"
    },
    "executionInfo": {
     "elapsed": 15,
     "status": "ok",
     "timestamp": 1743237445969,
     "user": {
      "displayName": "Aravindh G",
      "userId": "04385603378061808080"
     },
     "user_tz": -330
    },
    "id": "taVtcXEdB7N2",
    "outputId": "52570599-37f8-4d82-8001-3b20b79d8a37"
   },
   "outputs": [
    {
     "name": "stdout",
     "output_type": "stream",
     "text": [
      "[3]\n",
      "[6]\n",
      "Total sum is [9]\n"
     ]
    }
   ],
   "source": [
    "#5.\tThe AI Dice Roller: Simulate rolling two dice using NumPy and print their sum.\n",
    "\n",
    "import numpy as np\n",
    "\n",
    "dice1 = np.random.randint(1,7,1)\n",
    "print(dice1)\n",
    "\n",
    "dice2 = np.random.randint(1,7,1)\n",
    "print(dice2)\n",
    "\n",
    "sum = dice1 + dice2\n",
    "print(f\"Total sum is {sum}\")"
   ]
  },
  {
   "cell_type": "markdown",
   "metadata": {
    "id": "wXG9KJA5DW6C"
   },
   "source": [
    "# Pandas"
   ]
  },
  {
   "cell_type": "code",
   "execution_count": 77,
   "metadata": {
    "colab": {
     "base_uri": "https://localhost:8080/"
    },
    "executionInfo": {
     "elapsed": 13,
     "status": "ok",
     "timestamp": 1743238777314,
     "user": {
      "displayName": "Aravindh G",
      "userId": "04385603378061808080"
     },
     "user_tz": -330
    },
    "id": "nOixokEhDYoJ",
    "outputId": "da3b0e54-6d40-49a2-b895-050737e08631"
   },
   "outputs": [
    {
     "name": "stdout",
     "output_type": "stream",
     "text": [
      "  Product Names  Price  Stock\n",
      "0             A     10    100\n",
      "1             B     20    200\n",
      "2             C     30    150\n",
      "Expensive: 30\n",
      "Lowest: 100\n",
      "Expensive Product: 2    C\n",
      "Name: Product Names, dtype: object\n",
      "Lowest Stock: 0    A\n",
      "Name: Product Names, dtype: object\n"
     ]
    }
   ],
   "source": [
    "#1.\tSupermarket Sales Tracker: Create a Pandas DataFrame that stores:\n",
    "#a.\tProduct Names\n",
    "#b.\tPrice\n",
    "#c.\tStock Quantity\n",
    "#d.\tFind out which product is the most expensive and which has the lowest stock.\n",
    "\n",
    "data = {'Product Names':['A','B','C'],'Price':[10,20,30],'Stock':[100,200,150]}\n",
    "df = pd.DataFrame(data)\n",
    "print(df)\n",
    "Expensive = df['Price'].max()\n",
    "Lowest = df['Stock'].min()\n",
    "print(f\"Expensive: {Expensive}\")\n",
    "print(f\"Lowest: {Lowest}\")\n",
    "\n",
    "Expensive_Product = df.query('Price == @Expensive')\n",
    "Lowest_Stock_Product = df.query('Stock == @Lowest')\n",
    "print(f\"Expensive Product: {Expensive_Product['Product Names']}\")\n",
    "print(f\"Lowest Stock: {Lowest_Stock_Product['Product Names']}\")\n"
   ]
  },
  {
   "cell_type": "code",
   "execution_count": 135,
   "metadata": {
    "colab": {
     "base_uri": "https://localhost:8080/"
    },
    "executionInfo": {
     "elapsed": 78,
     "status": "ok",
     "timestamp": 1743241029923,
     "user": {
      "displayName": "Aravindh G",
      "userId": "04385603378061808080"
     },
     "user_tz": -330
    },
    "id": "P6Uclo76IXTb",
    "outputId": "19afa9d4-1a55-462a-e6ef-009e444dc196"
   },
   "outputs": [
    {
     "name": "stdout",
     "output_type": "stream",
     "text": [
      "Number of movies 979\n",
      "The Shawshank Redemption 9.3\n",
      "Drama 278\n"
     ]
    }
   ],
   "source": [
    "#2.\tMovie Mania: Load the IMDb movie dataset and answer:\n",
    "#a.\tHow many movies are in the dataset?\n",
    "#b.\tWhat’s the highest-rated movie?\n",
    "#c.\tWhat’s the most common genre?\n",
    "#d.\tHint:\n",
    "#df = pd.read_csv(\"https://raw.githubusercontent.com/justmarkham/pandas-videos/master/data/imdb_1000.csv\")\n",
    "\n",
    "import pandas as pd\n",
    "df = pd.read_csv(\"https://raw.githubusercontent.com/justmarkham/pandas-videos/master/data/imdb_1000.csv\")\n",
    "#print(df)\n",
    "\n",
    "Number_of_movies = df['title'].count()\n",
    "print(f\"Number of movies {Number_of_movies}\")\n",
    "\n",
    "High_rated =df.iloc[df['star_rating'].idxmax()]\n",
    "print(f\"{High_rated['title']} {High_rated['star_rating']}\")\n",
    "\n",
    "genre_counts = df['genre'].value_counts()\n",
    "most_common_genre = genre_counts.idxmax()\n",
    "print(f\"{most_common_genre} {genre_counts.max()}\")\n"
   ]
  },
  {
   "cell_type": "code",
   "execution_count": 148,
   "metadata": {
    "colab": {
     "base_uri": "https://localhost:8080/"
    },
    "executionInfo": {
     "elapsed": 12,
     "status": "ok",
     "timestamp": 1743241689737,
     "user": {
      "displayName": "Aravindh G",
      "userId": "04385603378061808080"
     },
     "user_tz": -330
    },
    "id": "dPXMr6BnQ7K-",
    "outputId": "d24dae2a-8aa4-4ab7-adf2-69e06598c435"
   },
   "outputs": [
    {
     "name": "stdout",
     "output_type": "stream",
     "text": [
      "     Pregnant  Glucose  Diastolic_BP  Skin_Fold  Serum_Insulin   BMI  \\\n",
      "0           6    148.0          72.0   35.00000            0.0  33.6   \n",
      "1           1     85.0          66.0   29.00000            0.0  26.6   \n",
      "2           8    183.0          64.0   29.15342            0.0  23.3   \n",
      "3           1     89.0          66.0   23.00000           94.0  28.1   \n",
      "4           0    137.0          40.0   35.00000          168.0  43.1   \n",
      "..        ...      ...           ...        ...            ...   ...   \n",
      "763        10    101.0          76.0   48.00000          180.0  32.9   \n",
      "764         2    122.0          70.0   27.00000            0.0  36.8   \n",
      "765         5    121.0          72.0   23.00000          112.0  26.2   \n",
      "766         1    126.0          60.0   29.15342            0.0  30.1   \n",
      "767         1     93.0          70.0   31.00000            0.0  30.4   \n",
      "\n",
      "     Diabetes_Pedigree  Age  Class  \n",
      "0                0.627   50      1  \n",
      "1                0.351   31      0  \n",
      "2                0.672   32      1  \n",
      "3                0.167   21      0  \n",
      "4                2.288   33      1  \n",
      "..                 ...  ...    ...  \n",
      "763              0.171   63      0  \n",
      "764              0.340   27      0  \n",
      "765              0.245   30      0  \n",
      "766              0.349   47      1  \n",
      "767              0.315   23      0  \n",
      "\n",
      "[768 rows x 9 columns]\n"
     ]
    }
   ],
   "source": [
    "#3.\tThe Missing Data Detective: Load a dataset and check for missing values. If any are found, fill them with appropriate values.\n",
    "\n",
    "import pandas as pd\n",
    "df = pd.read_csv(\"/content/Diabetes Missing Data.csv\")\n",
    "#print(df) #[768 rows x 9 columns]\n",
    "\n",
    "#df = df.dropna(inplace=False)\n",
    "#print(df) #[392 rows x 9 columns]\n",
    "\n",
    "df = df.fillna({'Skin_Fold': df['Skin_Fold'].mean()}, inplace=False)\n",
    "print(df.fillna(0)) [768 rows x 9 columns]"
   ]
  },
  {
   "cell_type": "code",
   "execution_count": 176,
   "metadata": {
    "colab": {
     "base_uri": "https://localhost:8080/"
    },
    "executionInfo": {
     "elapsed": 8,
     "status": "ok",
     "timestamp": 1743242650327,
     "user": {
      "displayName": "Aravindh G",
      "userId": "04385603378061808080"
     },
     "user_tz": -330
    },
    "id": "T1MheG3kTlEc",
    "outputId": "2bf8879e-cefc-4683-95b4-f43238e868cb"
   },
   "outputs": [
    {
     "name": "stdout",
     "output_type": "stream",
     "text": [
      "             Name    Birthday  current_year  Birthday_year  Age\n",
      "0   Alice Johnson  1990-01-15          2025           1990   35\n",
      "1       Bob Smith  1985-05-22          2025           1985   40\n",
      "2   Charlie Brown  2000-07-30          2025           2000   25\n",
      "3    David Wilson  1995-03-10          2025           1995   30\n",
      "4   Ella Martinez  1988-09-25          2025           1988   37\n",
      "5    Frank Thomas  1992-06-18          2025           1992   33\n",
      "6       Grace Lee  1980-12-05          2025           1980   45\n",
      "7     Henry Adams  1975-04-09          2025           1975   50\n",
      "8  Isabella White  2003-11-14          2025           2003   22\n",
      "9   Jack Robinson  1998-08-27          2025           1998   27\n"
     ]
    }
   ],
   "source": [
    "#4.\tThe Birthday Analyzer: Create a DataFrame with 10 people’s names and birthdays, then calculate their age based on today’s date.\n",
    "#a.\tHint:\n",
    "#from datetime import datetime\n",
    "#b.\tFind out who has the next upcoming birthday!\n",
    "\n",
    "import pandas as pd\n",
    "from datetime import datetime as dt\n",
    "\n",
    "df = pd.DataFrame({\n",
    "    \"Name\": [\n",
    "        \"Alice Johnson\", \"Bob Smith\", \"Charlie Brown\", \"David Wilson\", \"Ella Martinez\",\n",
    "        \"Frank Thomas\", \"Grace Lee\", \"Henry Adams\", \"Isabella White\", \"Jack Robinson\"\n",
    "    ],\n",
    "    \"Birthday\": [\n",
    "        \"1990-01-15\", \"1985-05-22\", \"2000-07-30\", \"1995-03-10\", \"1988-09-25\",\n",
    "        \"1992-06-18\", \"1980-12-05\", \"1975-04-09\", \"2003-11-14\", \"1998-08-27\"\n",
    "    ]\n",
    "})\n",
    "\n",
    "#print(df)\n",
    "today = dt.today().strftime(\"%Y-%m-%d\")\n",
    "current_year = dt.today().year\n",
    "df['current_year'] = current_year\n",
    "df['Birthday_year'] = pd.to_datetime(df['Birthday']).dt.year\n",
    "df['Age'] = current_year - df['Birthday_year']\n",
    "\n",
    "print(df)"
   ]
  },
  {
   "cell_type": "code",
   "execution_count": 255,
   "metadata": {
    "colab": {
     "base_uri": "https://localhost:8080/"
    },
    "executionInfo": {
     "elapsed": 10,
     "status": "ok",
     "timestamp": 1743246217827,
     "user": {
      "displayName": "Aravindh G",
      "userId": "04385603378061808080"
     },
     "user_tz": -330
    },
    "id": "tUsL53pGYS9e",
    "outputId": "bf074ad8-cef3-4611-efae-5071fc072b63"
   },
   "outputs": [
    {
     "name": "stdout",
     "output_type": "stream",
     "text": [
      "     Country  Total Medals  Medal-to-Population Ratio\n",
      "0        USA             4               1.208459e-08\n",
      "2      Japan             2               1.587302e-08\n",
      "3     France             1               1.492537e-08\n",
      "4         UK             1               1.470588e-08\n",
      "5    Germany             1               1.204819e-08\n",
      "6  Australia             1               4.000000e-08\n",
      "7     Brazil             1               4.694836e-09\n",
      "9      China             1               7.142857e-10\n"
     ]
    }
   ],
   "source": [
    "#5.\tThe Olympic Medal Counter: Load Olympic medal data and find:\n",
    "#a.\tThe country with the most gold medals\n",
    "#b.\tThe top 5 countries by total medals\n",
    "#c.\tThe country with the highest medal-to-population ratio\n",
    "#d.\tHint:\n",
    "\n",
    "import pandas as pd\n",
    "df = pd.read_csv(\"/content/sample_olympics_data_with_population.csv\")\n",
    "#print(df)\n",
    "\n",
    "gold_medals = df.query('Medal == \"Gold\"')\n",
    "most_gold_country = gold_medals[\"Country\"].value_counts().idxmax()\n",
    "#print(gold_medals)\n",
    "#print(most_gold_country)\n",
    "\n",
    "top = df['Country'].value_counts().head(5)\n",
    "#print(top)\n",
    "\n",
    "df[\"Total Medals\"] = df[\"Country\"].map(df[\"Country\"].value_counts())\n",
    "df[\"Medal-to-Population Ratio\"] = df[\"Total Medals\"] / df[\"Population\"]\n",
    "print(df[['Country','Total Medals','Medal-to-Population Ratio']].drop_duplicates())"
   ]
  }
 ],
 "metadata": {
  "colab": {
   "authorship_tag": "ABX9TyNuX6irRKicZY9sXpjlUpBq",
   "gpuType": "T4",
   "provenance": []
  },
  "kernelspec": {
   "display_name": ".venv",
   "language": "python",
   "name": "python3"
  },
  "language_info": {
   "codemirror_mode": {
    "name": "ipython",
    "version": 3
   },
   "file_extension": ".py",
   "mimetype": "text/x-python",
   "name": "python",
   "nbconvert_exporter": "python",
   "pygments_lexer": "ipython3",
   "version": "3.10.1"
  }
 },
 "nbformat": 4,
 "nbformat_minor": 0
}
