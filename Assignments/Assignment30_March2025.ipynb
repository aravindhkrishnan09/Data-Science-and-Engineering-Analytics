{
 "cells": [
  {
   "cell_type": "markdown",
   "metadata": {
    "id": "tCkcnl259mTa"
   },
   "source": [
    "# Module1 - Exercise 1: Creating Different Types of NumPy Arrays"
   ]
  },
  {
   "cell_type": "code",
   "execution_count": 2,
   "metadata": {
    "colab": {
     "base_uri": "https://localhost:8080/"
    },
    "executionInfo": {
     "elapsed": 7,
     "status": "ok",
     "timestamp": 1743756239643,
     "user": {
      "displayName": "Aravindh G",
      "userId": "04385603378061808080"
     },
     "user_tz": -330
    },
    "id": "roQ_UJbn9eiJ",
    "outputId": "d545517f-9e8b-4ed8-e09c-02109ad1d4f9"
   },
   "outputs": [
    {
     "ename": "ModuleNotFoundError",
     "evalue": "No module named 'numpy'",
     "output_type": "error",
     "traceback": [
      "\u001b[31m---------------------------------------------------------------------------\u001b[39m",
      "\u001b[31mModuleNotFoundError\u001b[39m                       Traceback (most recent call last)",
      "\u001b[36mCell\u001b[39m\u001b[36m \u001b[39m\u001b[32mIn[2]\u001b[39m\u001b[32m, line 2\u001b[39m\n\u001b[32m      1\u001b[39m \u001b[38;5;66;03m#1D array\u001b[39;00m\n\u001b[32m----> \u001b[39m\u001b[32m2\u001b[39m \u001b[38;5;28;01mimport\u001b[39;00m\u001b[38;5;250m \u001b[39m\u001b[34;01mnumpy\u001b[39;00m\u001b[38;5;250m \u001b[39m\u001b[38;5;28;01mas\u001b[39;00m\u001b[38;5;250m \u001b[39m\u001b[34;01mnp\u001b[39;00m\n\u001b[32m      4\u001b[39m a = np.array([\u001b[32m1\u001b[39m, \u001b[32m2\u001b[39m, \u001b[32m3\u001b[39m, \u001b[32m4\u001b[39m, \u001b[32m5\u001b[39m])\n\u001b[32m      5\u001b[39m \u001b[38;5;28mprint\u001b[39m(a)\n",
      "\u001b[31mModuleNotFoundError\u001b[39m: No module named 'numpy'"
     ]
    }
   ],
   "source": [
    "#1D array\n",
    "import numpy as np\n",
    "\n",
    "a = np.array([1, 2, 3, 4, 5])\n",
    "print(a)"
   ]
  },
  {
   "cell_type": "code",
   "execution_count": 4,
   "metadata": {
    "colab": {
     "base_uri": "https://localhost:8080/"
    },
    "executionInfo": {
     "elapsed": 14,
     "status": "ok",
     "timestamp": 1743756251081,
     "user": {
      "displayName": "Aravindh G",
      "userId": "04385603378061808080"
     },
     "user_tz": -330
    },
    "id": "BMR3XhfF90C7",
    "outputId": "39e22604-7fd9-4e8c-8cfd-8f0ace135fae"
   },
   "outputs": [
    {
     "name": "stdout",
     "output_type": "stream",
     "text": [
      "[[1 2 3]\n",
      " [4 5 6]]\n"
     ]
    }
   ],
   "source": [
    "#2D array\n",
    "import numpy as np\n",
    "\n",
    "b = np.array([[1, 2, 3], [4, 5, 6]])\n",
    "print(b)"
   ]
  },
  {
   "cell_type": "code",
   "execution_count": 40,
   "metadata": {
    "colab": {
     "base_uri": "https://localhost:8080/"
    },
    "executionInfo": {
     "elapsed": 7,
     "status": "ok",
     "timestamp": 1743760694889,
     "user": {
      "displayName": "Aravindh G",
      "userId": "04385603378061808080"
     },
     "user_tz": -330
    },
    "id": "nhME7clE-Ohc",
    "outputId": "706d0ca2-af52-4443-c32a-d3f1a6bed3a8"
   },
   "outputs": [
    {
     "name": "stdout",
     "output_type": "stream",
     "text": [
      "[[[ 1  2  3]\n",
      "  [ 4  5  6]]\n",
      "\n",
      " [[ 7  8  9]\n",
      "  [10 11 12]]]\n",
      "7\n",
      "(2, 2, 3)\n"
     ]
    }
   ],
   "source": [
    "#3D array\n",
    "import numpy as np\n",
    "\n",
    "c = np.array([[[1, 2, 3], [4, 5, 6]], [[7, 8, 9], [10, 11, 12]]])\n",
    "print(c)\n",
    "print(c[1,0,0])\n",
    "print(c.shape)"
   ]
  },
  {
   "cell_type": "code",
   "execution_count": 14,
   "metadata": {
    "colab": {
     "base_uri": "https://localhost:8080/"
    },
    "executionInfo": {
     "elapsed": 14,
     "status": "ok",
     "timestamp": 1743757205732,
     "user": {
      "displayName": "Aravindh G",
      "userId": "04385603378061808080"
     },
     "user_tz": -330
    },
    "id": "ULJMX7-ABvEp",
    "outputId": "e5626a27-bc09-40a4-ae88-311baf1466d5"
   },
   "outputs": [
    {
     "name": "stdout",
     "output_type": "stream",
     "text": [
      "[[1 1 1 1 1]\n",
      " [1 1 1 1 1]\n",
      " [1 1 1 1 1]\n",
      " [1 1 1 1 1]\n",
      " [1 1 1 1 1]]\n"
     ]
    }
   ],
   "source": [
    "#5*5 matrix with ones\n",
    "import numpy as np\n",
    "\n",
    "d = np.ones((5,5),dtype=int)\n",
    "print(d)"
   ]
  },
  {
   "cell_type": "code",
   "execution_count": 37,
   "metadata": {
    "colab": {
     "base_uri": "https://localhost:8080/"
    },
    "executionInfo": {
     "elapsed": 44,
     "status": "ok",
     "timestamp": 1743759842387,
     "user": {
      "displayName": "Aravindh G",
      "userId": "04385603378061808080"
     },
     "user_tz": -330
    },
    "id": "n9owE5A6CkMh",
    "outputId": "170521db-0afd-4270-ec76-1ee1715890b2"
   },
   "outputs": [
    {
     "name": "stdout",
     "output_type": "stream",
     "text": [
      "[ 0  2  4  6  8 10 12 14 16 18 20]\n",
      "[ 0  2  4  6  8 10 12 14 16]\n",
      "[[ 0  2  4]\n",
      " [ 6  8 10]\n",
      " [12 14 16]]\n",
      "[[ 0  2  4]\n",
      " [ 6 99 10]\n",
      " [12 14 16]]\n"
     ]
    }
   ],
   "source": [
    "#array with values from 0 to 20 with a step of 2\n",
    "\n",
    "import numpy as np\n",
    "\n",
    "e = np.arange(0, 21, 2)\n",
    "print(e)\n",
    "#append\n",
    "f = np.delete(e, [-1,-2])\n",
    "print(f)\n",
    "g = f.reshape(3,3)\n",
    "print(g)\n",
    "g[1,1] = 99\n",
    "print(g)"
   ]
  },
  {
   "cell_type": "markdown",
   "metadata": {
    "id": "z92k0zZbO-f0"
   },
   "source": [
    "# Module1 - Exercise 2: Understanding Array Properties"
   ]
  },
  {
   "cell_type": "code",
   "execution_count": 38,
   "metadata": {
    "colab": {
     "base_uri": "https://localhost:8080/"
    },
    "executionInfo": {
     "elapsed": 10,
     "status": "ok",
     "timestamp": 1743760663857,
     "user": {
      "displayName": "Aravindh G",
      "userId": "04385603378061808080"
     },
     "user_tz": -330
    },
    "id": "cQ60qHlePAQE",
    "outputId": "2826ce0a-fbc1-4b1e-d4ec-ead4e516489b"
   },
   "outputs": [
    {
     "name": "stdout",
     "output_type": "stream",
     "text": [
      "5\n"
     ]
    }
   ],
   "source": [
    "#print size\n",
    "import numpy as np\n",
    "\n",
    "a = np.array([1, 2, 3, 4, 5])\n",
    "print(a.size)"
   ]
  },
  {
   "cell_type": "code",
   "execution_count": 39,
   "metadata": {
    "colab": {
     "base_uri": "https://localhost:8080/"
    },
    "executionInfo": {
     "elapsed": 9,
     "status": "ok",
     "timestamp": 1743760677126,
     "user": {
      "displayName": "Aravindh G",
      "userId": "04385603378061808080"
     },
     "user_tz": -330
    },
    "id": "NniVtbbBPDV0",
    "outputId": "a986ad0e-8dc3-48ed-912d-b527bb3a5cdc"
   },
   "outputs": [
    {
     "name": "stdout",
     "output_type": "stream",
     "text": [
      "(2, 3)\n"
     ]
    }
   ],
   "source": [
    "#print shape\n",
    "import numpy as np\n",
    "\n",
    "b = np.array([[1, 2, 3], [4, 5, 6]])\n",
    "print(b.shape)"
   ]
  },
  {
   "cell_type": "code",
   "execution_count": 48,
   "metadata": {
    "colab": {
     "base_uri": "https://localhost:8080/"
    },
    "executionInfo": {
     "elapsed": 16,
     "status": "ok",
     "timestamp": 1743760815832,
     "user": {
      "displayName": "Aravindh G",
      "userId": "04385603378061808080"
     },
     "user_tz": -330
    },
    "id": "wYy94W3mPQ3s",
    "outputId": "04bbe948-c5c9-4402-c926-8ea903e0a711"
   },
   "outputs": [
    {
     "name": "stdout",
     "output_type": "stream",
     "text": [
      "[[[ 1  2  3]\n",
      "  [ 4  5  6]]\n",
      "\n",
      " [[ 7  8  9]\n",
      "  [10 11 12]]]\n",
      "int64\n"
     ]
    }
   ],
   "source": [
    "#print dtype\n",
    "import numpy as np\n",
    "\n",
    "c = np.array([[[1, 2, 3], [4, 5, 6]], [[7, 8, 9], [10, 11, 12]]],dtype=int)\n",
    "print(c)\n",
    "print(c.dtype)\n"
   ]
  },
  {
   "cell_type": "code",
   "execution_count": 49,
   "metadata": {
    "colab": {
     "base_uri": "https://localhost:8080/"
    },
    "executionInfo": {
     "elapsed": 10,
     "status": "ok",
     "timestamp": 1743760842399,
     "user": {
      "displayName": "Aravindh G",
      "userId": "04385603378061808080"
     },
     "user_tz": -330
    },
    "id": "WNMGTMLRPq2W",
    "outputId": "d1181f2c-01a6-491c-e25e-4c90a8784886"
   },
   "outputs": [
    {
     "name": "stdout",
     "output_type": "stream",
     "text": [
      "[1 2 3 4 5]\n",
      "[1. 2. 3. 4. 5.]\n"
     ]
    }
   ],
   "source": [
    "#Convert data type of an array from int to float\n",
    "import numpy as np\n",
    "\n",
    "a = np.array([1, 2, 3, 4, 5])\n",
    "print(a)\n",
    "a = a.astype(float)\n",
    "print(a)\n"
   ]
  },
  {
   "cell_type": "markdown",
   "metadata": {
    "id": "yamMYTWtSMWp"
   },
   "source": [
    "# Module 2 - Exercise 1: Create two NumPy arrays of shape (3,3), fill them with random values, and perform element-wise addition, subtraction, multiplication, and division."
   ]
  },
  {
   "cell_type": "code",
   "execution_count": 53,
   "metadata": {
    "colab": {
     "base_uri": "https://localhost:8080/"
    },
    "executionInfo": {
     "elapsed": 20,
     "status": "ok",
     "timestamp": 1743761595333,
     "user": {
      "displayName": "Aravindh G",
      "userId": "04385603378061808080"
     },
     "user_tz": -330
    },
    "id": "WVzC-5LNSST4",
    "outputId": "28c7ca83-74b1-4736-b903-82e449ab11d9"
   },
   "outputs": [
    {
     "name": "stdout",
     "output_type": "stream",
     "text": [
      "[[1 1 6]\n",
      " [8 4 6]\n",
      " [3 8 1]]\n",
      "[[5 4 7]\n",
      " [7 6 7]\n",
      " [2 1 4]]\n",
      "[[ 6  5 13]\n",
      " [15 10 13]\n",
      " [ 5  9  5]]\n",
      "[[-4 -3 -1]\n",
      " [ 1 -2 -1]\n",
      " [ 1  7 -3]]\n",
      "[[ 5  4 42]\n",
      " [56 24 42]\n",
      " [ 6  8  4]]\n",
      "[[0.2        0.25       0.85714286]\n",
      " [1.14285714 0.66666667 0.85714286]\n",
      " [1.5        8.         0.25      ]]\n"
     ]
    }
   ],
   "source": [
    "a = np.random.randint(1,9,(3,3))\n",
    "b = np.random.randint(1,9,(3,3))\n",
    "print(a)\n",
    "print(b)\n",
    "print(a+b)\n",
    "print(a-b)\n",
    "print(a*b)\n",
    "print(a/b)"
   ]
  },
  {
   "cell_type": "markdown",
   "metadata": {
    "id": "HUIP0tyHZcJk"
   },
   "source": [
    "# Module 2 - Exercise 2: Demonstrate broadcasting by adding a 1D array [1, 2, 3] to a 3x3 matrix."
   ]
  },
  {
   "cell_type": "code",
   "execution_count": 54,
   "metadata": {
    "colab": {
     "base_uri": "https://localhost:8080/"
    },
    "executionInfo": {
     "elapsed": 8,
     "status": "ok",
     "timestamp": 1743763443319,
     "user": {
      "displayName": "Aravindh G",
      "userId": "04385603378061808080"
     },
     "user_tz": -330
    },
    "id": "rAFuqWkfZhkC",
    "outputId": "d0388c02-ebf7-4b71-fc39-8cb75550dd8c"
   },
   "outputs": [
    {
     "name": "stdout",
     "output_type": "stream",
     "text": [
      "[[1 2 3]\n",
      " [4 5 6]\n",
      " [7 8 9]]\n",
      "[1 2 3]\n",
      "[[ 2  4  6]\n",
      " [ 5  7  9]\n",
      " [ 8 10 12]]\n"
     ]
    }
   ],
   "source": [
    "import numpy as np\n",
    "\n",
    "a = np.array([[1, 2, 3], [4, 5, 6], [7, 8, 9]])\n",
    "b = np.array([1, 2, 3])\n",
    "print(a)\n",
    "print(b)\n",
    "print(a+b)"
   ]
  },
  {
   "cell_type": "markdown",
   "metadata": {
    "id": "FJa2f6ZtbWAW"
   },
   "source": [
    "# Module 2 - Exercise 3: Compute the dot product of two vectors and multiply two 2x2 matrices."
   ]
  },
  {
   "cell_type": "code",
   "execution_count": 61,
   "metadata": {
    "colab": {
     "base_uri": "https://localhost:8080/"
    },
    "executionInfo": {
     "elapsed": 49,
     "status": "ok",
     "timestamp": 1743767122934,
     "user": {
      "displayName": "Aravindh G",
      "userId": "04385603378061808080"
     },
     "user_tz": -330
    },
    "id": "8W1w-Jnnbe9O",
    "outputId": "bff2fe56-3e2a-4c81-b31c-0d132334e921"
   },
   "outputs": [
    {
     "name": "stdout",
     "output_type": "stream",
     "text": [
      "[1 2 3 4]\n",
      "[5 6 7 8]\n",
      "70\n",
      "[ 5 12 21 32]\n"
     ]
    }
   ],
   "source": [
    "import numpy as np\n",
    "\n",
    "a = np.array([1, 2, 3, 4])\n",
    "b = np.array([5, 6, 7, 8])\n",
    "print(a)\n",
    "print(b)\n",
    "print(np.dot(a,b))\n",
    "print(a*b)"
   ]
  },
  {
   "cell_type": "markdown",
   "metadata": {
    "id": "_D_eBkn-oHMx"
   },
   "source": [
    "# Module 3 - Exercise 1: Create a 5x5 NumPy array with values ranging from 1 to 25.\n"
   ]
  },
  {
   "cell_type": "code",
   "execution_count": 62,
   "metadata": {
    "colab": {
     "base_uri": "https://localhost:8080/"
    },
    "executionInfo": {
     "elapsed": 15,
     "status": "ok",
     "timestamp": 1743767284929,
     "user": {
      "displayName": "Aravindh G",
      "userId": "04385603378061808080"
     },
     "user_tz": -330
    },
    "id": "WiGXTr28oKOY",
    "outputId": "5c7a61b6-462c-414d-e4f6-07d9d3276ef1"
   },
   "outputs": [
    {
     "name": "stdout",
     "output_type": "stream",
     "text": [
      "[ 1  2  3  4  5  6  7  8  9 10 11 12 13 14 15 16 17 18 19 20 21 22 23 24\n",
      " 25]\n",
      "[[ 1  2  3  4  5]\n",
      " [ 6  7  8  9 10]\n",
      " [11 12 13 14 15]\n",
      " [16 17 18 19 20]\n",
      " [21 22 23 24 25]]\n"
     ]
    }
   ],
   "source": [
    "import numpy as np\n",
    "\n",
    "a = np.linspace(1,25,25,dtype=int)\n",
    "print(a)\n",
    "a = a.reshape(5,5)\n",
    "print(a)"
   ]
  },
  {
   "cell_type": "code",
   "execution_count": 64,
   "metadata": {
    "colab": {
     "base_uri": "https://localhost:8080/"
    },
    "executionInfo": {
     "elapsed": 42,
     "status": "ok",
     "timestamp": 1743767349478,
     "user": {
      "displayName": "Aravindh G",
      "userId": "04385603378061808080"
     },
     "user_tz": -330
    },
    "id": "I4_cjdSmoWO3",
    "outputId": "cf7b8887-be45-4176-a1e4-ee9bc63c9a9c"
   },
   "outputs": [
    {
     "name": "stdout",
     "output_type": "stream",
     "text": [
      "[[ 1  2  3  4  5]\n",
      " [ 6  7  8  9 10]\n",
      " [11 12 13 14 15]\n",
      " [16 17 18 19 20]\n",
      " [21 22 23 24 25]]\n"
     ]
    }
   ],
   "source": [
    "import numpy as np\n",
    "\n",
    "a = np.arange(1,26).reshape(5,5)\n",
    "print(a)"
   ]
  },
  {
   "cell_type": "markdown",
   "metadata": {
    "id": "5Z2a6ylbtPzp"
   },
   "source": [
    "# Module 3 - Exercise 2: Extract the middle row and middle column."
   ]
  },
  {
   "cell_type": "code",
   "execution_count": 66,
   "metadata": {
    "colab": {
     "base_uri": "https://localhost:8080/"
    },
    "executionInfo": {
     "elapsed": 10,
     "status": "ok",
     "timestamp": 1743768622206,
     "user": {
      "displayName": "Aravindh G",
      "userId": "04385603378061808080"
     },
     "user_tz": -330
    },
    "id": "wjA_jRaKtTdn",
    "outputId": "198738a9-15ac-4802-e524-9e2117db7995"
   },
   "outputs": [
    {
     "name": "stdout",
     "output_type": "stream",
     "text": [
      "[[ 1  2  3  4  5]\n",
      " [ 6  7  8  9 10]\n",
      " [11 12 13 14 15]\n",
      " [16 17 18 19 20]\n",
      " [21 22 23 24 25]]\n",
      "13\n"
     ]
    }
   ],
   "source": [
    "import numpy as np\n",
    "\n",
    "a = np.arange(1,26).reshape(5,5)\n",
    "print(a)\n",
    "print(a[2,2])"
   ]
  },
  {
   "cell_type": "markdown",
   "metadata": {
    "id": "U4O3-QSdtdD3"
   },
   "source": [
    "# Module3 - Exercise 3: Select all even numbers from the array using masking"
   ]
  },
  {
   "cell_type": "code",
   "execution_count": 68,
   "metadata": {
    "colab": {
     "base_uri": "https://localhost:8080/"
    },
    "executionInfo": {
     "elapsed": 8,
     "status": "ok",
     "timestamp": 1743768716075,
     "user": {
      "displayName": "Aravindh G",
      "userId": "04385603378061808080"
     },
     "user_tz": -330
    },
    "id": "GEvUCkVwtjEf",
    "outputId": "353a22e0-442d-4bc4-a739-d0b0f489cba9"
   },
   "outputs": [
    {
     "name": "stdout",
     "output_type": "stream",
     "text": [
      "[[ 1  2  3  4  5]\n",
      " [ 6  7  8  9 10]\n",
      " [11 12 13 14 15]\n",
      " [16 17 18 19 20]\n",
      " [21 22 23 24 25]]\n",
      "[[False  True False  True False]\n",
      " [ True False  True False  True]\n",
      " [False  True False  True False]\n",
      " [ True False  True False  True]\n",
      " [False  True False  True False]]\n",
      "[ 2  4  6  8 10 12 14 16 18 20 22 24]\n"
     ]
    }
   ],
   "source": [
    "import numpy as np\n",
    "\n",
    "a = np.arange(1,26).reshape(5,5)\n",
    "print(a)\n",
    "print(a%2==0)\n",
    "print(a[a%2==0])"
   ]
  }
 ],
 "metadata": {
  "colab": {
   "authorship_tag": "ABX9TyP8GgJ9orrIE3/3e3H40yyh",
   "collapsed_sections": [
    "z92k0zZbO-f0"
   ],
   "provenance": [],
   "toc_visible": true
  },
  "kernelspec": {
   "display_name": ".venv",
   "language": "python",
   "name": "python3"
  },
  "language_info": {
   "codemirror_mode": {
    "name": "ipython",
    "version": 3
   },
   "file_extension": ".py",
   "mimetype": "text/x-python",
   "name": "python",
   "nbconvert_exporter": "python",
   "pygments_lexer": "ipython3",
   "version": "3.12.2"
  }
 },
 "nbformat": 4,
 "nbformat_minor": 0
}
