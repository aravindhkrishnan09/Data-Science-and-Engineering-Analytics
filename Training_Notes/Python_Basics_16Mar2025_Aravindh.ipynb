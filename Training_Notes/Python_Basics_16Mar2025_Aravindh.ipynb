{
 "cells": [
  {
   "cell_type": "markdown",
   "metadata": {
    "id": "u7fhgFy-Sps_"
   },
   "source": [
    "# Basics"
   ]
  },
  {
   "cell_type": "code",
   "execution_count": null,
   "metadata": {
    "colab": {
     "base_uri": "https://localhost:8080/",
     "height": 36
    },
    "executionInfo": {
     "elapsed": 46,
     "status": "ok",
     "timestamp": 1742320452778,
     "user": {
      "displayName": "Aravindh G",
      "userId": "04385603378061808080"
     },
     "user_tz": -330
    },
    "id": "U1ZgJ1dJIbvl",
    "outputId": "899cf777-c59c-4fd6-94a4-c313b2f9fef3"
   },
   "outputs": [
    {
     "data": {
      "application/vnd.google.colaboratory.intrinsic+json": {
       "type": "string"
      },
      "text/plain": [
       "'Hello World'"
      ]
     },
     "execution_count": 2,
     "metadata": {},
     "output_type": "execute_result"
    }
   ],
   "source": [
    "\"Hello World\""
   ]
  },
  {
   "cell_type": "code",
   "execution_count": null,
   "metadata": {
    "colab": {
     "base_uri": "https://localhost:8080/"
    },
    "executionInfo": {
     "elapsed": 15,
     "status": "ok",
     "timestamp": 1742320636784,
     "user": {
      "displayName": "Aravindh G",
      "userId": "04385603378061808080"
     },
     "user_tz": -330
    },
    "id": "RXJP-rl7ZgD9",
    "outputId": "44a38901-22e7-47f6-c238-68175bbdd3b8"
   },
   "outputs": [
    {
     "name": "stdout",
     "output_type": "stream",
     "text": [
      "Hello World\n"
     ]
    }
   ],
   "source": [
    "print('Hello World')"
   ]
  },
  {
   "cell_type": "markdown",
   "metadata": {
    "id": "Jkmtl6Apbf2g"
   },
   "source": [
    "# Print Hello World with quotes"
   ]
  },
  {
   "cell_type": "code",
   "execution_count": null,
   "metadata": {
    "colab": {
     "base_uri": "https://localhost:8080/"
    },
    "executionInfo": {
     "elapsed": 13,
     "status": "ok",
     "timestamp": 1742321305090,
     "user": {
      "displayName": "Aravindh G",
      "userId": "04385603378061808080"
     },
     "user_tz": -330
    },
    "id": "v039SOKdaWjC",
    "outputId": "83a3a03e-e419-4d17-cd54-a8f403f162d1"
   },
   "outputs": [
    {
     "name": "stdout",
     "output_type": "stream",
     "text": [
      "'Hello World'\n",
      "\"Hello World\"\n"
     ]
    }
   ],
   "source": [
    "print(\"'Hello World'\")\n",
    "print('\"Hello World\"')"
   ]
  },
  {
   "cell_type": "markdown",
   "metadata": {
    "id": "JqAYoF-zbnax"
   },
   "source": [
    "# Data type check"
   ]
  },
  {
   "cell_type": "code",
   "execution_count": null,
   "metadata": {
    "colab": {
     "base_uri": "https://localhost:8080/"
    },
    "executionInfo": {
     "elapsed": 14,
     "status": "ok",
     "timestamp": 1742322057008,
     "user": {
      "displayName": "Aravindh G",
      "userId": "04385603378061808080"
     },
     "user_tz": -330
    },
    "id": "UbWCCreJe-PM",
    "outputId": "00ea1aec-3bfd-44e5-c41e-5fe05003591f"
   },
   "outputs": [
    {
     "name": "stdout",
     "output_type": "stream",
     "text": [
      "<class 'str'>\n",
      "<class 'int'>\n"
     ]
    }
   ],
   "source": [
    "x = \"name\"\n",
    "y = 10\n",
    "print(type(x))\n",
    "print(type(y))"
   ]
  },
  {
   "cell_type": "markdown",
   "metadata": {
    "id": "CZzlz_DTbt6Y"
   },
   "source": [
    "#Lists"
   ]
  },
  {
   "cell_type": "code",
   "execution_count": null,
   "metadata": {
    "colab": {
     "base_uri": "https://localhost:8080/"
    },
    "executionInfo": {
     "elapsed": 19,
     "status": "ok",
     "timestamp": 1742322911032,
     "user": {
      "displayName": "Aravindh G",
      "userId": "04385603378061808080"
     },
     "user_tz": -330
    },
    "id": "wsZcfFxhgixL",
    "outputId": "0dfccd32-fe3b-4a63-96c0-ff0a71f0a0fd"
   },
   "outputs": [
    {
     "name": "stdout",
     "output_type": "stream",
     "text": [
      "[1, 2, 3, 4, 5]\n",
      "['apple', 'banana', 'orange']\n",
      "[1, 'apple', True, 3.14]\n",
      "banana\n",
      "apple True\n",
      "p\n",
      "['Guava', 'banana', 'orange']\n"
     ]
    }
   ],
   "source": [
    "numbers = [1, 2, 3, 4, 5]\n",
    "fruits = ['apple', 'banana', 'orange']\n",
    "mixed_list = [1, 'apple', True, 3.14]\n",
    "\n",
    "print(numbers)\n",
    "print(fruits)\n",
    "print(mixed_list)\n",
    "print(fruits[1])\n",
    "print(mixed_list[1],mixed_list[2])\n",
    "print(mixed_list[1][2])\n",
    "fruits[0] = 'Guava' #mutable\n",
    "print(fruits)"
   ]
  },
  {
   "cell_type": "markdown",
   "metadata": {
    "id": "Ur8xkvHPb8Gr"
   },
   "source": [
    "#Tuples"
   ]
  },
  {
   "cell_type": "code",
   "execution_count": null,
   "metadata": {
    "colab": {
     "base_uri": "https://localhost:8080/"
    },
    "executionInfo": {
     "elapsed": 19,
     "status": "ok",
     "timestamp": 1742323150489,
     "user": {
      "displayName": "Aravindh G",
      "userId": "04385603378061808080"
     },
     "user_tz": -330
    },
    "id": "F-tKhHDHivKy",
    "outputId": "91a0eb13-9e25-4677-da1f-0a7485f0613c"
   },
   "outputs": [
    {
     "name": "stdout",
     "output_type": "stream",
     "text": [
      "(1, 2, 3, 4, 5)\n",
      "('apple', 'banana', 'orange')\n",
      "[1, 'apple', True, 3.14]\n",
      "banana\n",
      "apple True\n",
      "p\n",
      "('Guava', 'banana', 'orange')\n"
     ]
    }
   ],
   "source": [
    "numbers = (1, 2, 3, 4, 5)\n",
    "fruits = ('apple', 'banana', 'orange')\n",
    "mixed_list = [1, 'apple', True, 3.14]\n",
    "\n",
    "print(numbers)\n",
    "print(fruits)\n",
    "print(mixed_list)\n",
    "print(fruits[1])\n",
    "print(mixed_list[1],mixed_list[2])\n",
    "print(mixed_list[1][2])\n",
    "# fruits[0] = 'Guava' immutable\n",
    "# changed to list, updated the value, changed back to tuple\n",
    "fruits_list = list(fruits)\n",
    "fruits_list[0] = 'Guava'\n",
    "fruits = tuple(fruits_list)\n",
    "print(fruits)"
   ]
  },
  {
   "cell_type": "markdown",
   "metadata": {
    "id": "v9UUx46ycHQU"
   },
   "source": [
    "#Dictionary"
   ]
  },
  {
   "cell_type": "code",
   "execution_count": null,
   "metadata": {
    "colab": {
     "base_uri": "https://localhost:8080/"
    },
    "executionInfo": {
     "elapsed": 17,
     "status": "ok",
     "timestamp": 1742323539320,
     "user": {
      "displayName": "Aravindh G",
      "userId": "04385603378061808080"
     },
     "user_tz": -330
    },
    "id": "TsSAo10vdl90",
    "outputId": "f2d688dc-c46a-46e6-d360-8a0fa98028c9"
   },
   "outputs": [
    {
     "name": "stdout",
     "output_type": "stream",
     "text": [
      "my name is John and my age is 36\n",
      "my name is John and my age is 36\n",
      "{'name': 'John', 'age': 36}\n"
     ]
    }
   ],
   "source": [
    "a = {'name': 'John', 'age': 36}\n",
    "print('my name is {} and my age is {}'.format(a['name'],a['age']))\n",
    "print(f\"my name is {a['name']} and my age is {a['age']}\")\n",
    "print(a)"
   ]
  },
  {
   "cell_type": "code",
   "execution_count": 1,
   "metadata": {
    "colab": {
     "base_uri": "https://localhost:8080/"
    },
    "executionInfo": {
     "elapsed": 23,
     "status": "ok",
     "timestamp": 1742888771674,
     "user": {
      "displayName": "Aravindh G",
      "userId": "04385603378061808080"
     },
     "user_tz": -330
    },
    "id": "xbLdNb1sQzcD",
    "outputId": "d3eb8005-4895-4cd7-c6f6-09e6ca9dc717"
   },
   "outputs": [
    {
     "name": "stdout",
     "output_type": "stream",
     "text": [
      "my name is ['John', 'Cena', 'Randy'] and my age is [36, 35, 46]\n",
      "my name is ['John', 'Cena', 'Randy'] and my age is [36, 35, 46]\n",
      "{'name': ['John', 'Cena', 'Randy'], 'age': [36, 35, 46]}\n"
     ]
    }
   ],
   "source": [
    "a = {'name': ['John','Cena','Randy'], 'age': [36,35,46]}\n",
    "print('my name is {} and my age is {}'.format(a['name'],a['age']))\n",
    "print(f\"my name is {a['name']} and my age is {a['age']}\")\n",
    "print(a)"
   ]
  },
  {
   "cell_type": "markdown",
   "metadata": {
    "id": "B41eX0ZRcOEb"
   },
   "source": [
    "# Set"
   ]
  },
  {
   "cell_type": "code",
   "execution_count": null,
   "metadata": {
    "colab": {
     "base_uri": "https://localhost:8080/"
    },
    "executionInfo": {
     "elapsed": 19,
     "status": "ok",
     "timestamp": 1742324298343,
     "user": {
      "displayName": "Aravindh G",
      "userId": "04385603378061808080"
     },
     "user_tz": -330
    },
    "id": "zaeHLaxvlfq7",
    "outputId": "5174fbd8-2c30-4ed0-8ab6-70fe61544f98"
   },
   "outputs": [
    {
     "name": "stdout",
     "output_type": "stream",
     "text": [
      "{1, 2, 3, 'h'}\n",
      "{1, 2, 3, 'h'}\n",
      "[3, 2, 1, 3, 'h', 'h']\n"
     ]
    }
   ],
   "source": [
    "int_var = 3\n",
    "str_var = 'h'\n",
    "a = {3,2,1,int_var,'h',str_var} #sets are unordered\n",
    "b = set([3,2,1,int_var,'h',str_var])\n",
    "c = [3,2,1,int_var,'h',str_var] #lists are ordered\n",
    "print(a)\n",
    "print(b)\n",
    "print(c)"
   ]
  },
  {
   "cell_type": "code",
   "execution_count": null,
   "metadata": {
    "colab": {
     "base_uri": "https://localhost:8080/"
    },
    "executionInfo": {
     "elapsed": 21,
     "status": "ok",
     "timestamp": 1742324350865,
     "user": {
      "displayName": "Aravindh G",
      "userId": "04385603378061808080"
     },
     "user_tz": -330
    },
    "id": "6GxReUtKn2fv",
    "outputId": "03f4cca3-6a5a-4380-86b2-40abe4cedf63"
   },
   "outputs": [
    {
     "name": "stdout",
     "output_type": "stream",
     "text": [
      "None\n"
     ]
    }
   ],
   "source": [
    "result = None\n",
    "\n",
    "print(result)"
   ]
  },
  {
   "cell_type": "markdown",
   "metadata": {
    "id": "FvBqPldzcTt3"
   },
   "source": [
    "# Arithmetic and logical operators"
   ]
  },
  {
   "cell_type": "code",
   "execution_count": null,
   "metadata": {
    "colab": {
     "base_uri": "https://localhost:8080/"
    },
    "executionInfo": {
     "elapsed": 12,
     "status": "ok",
     "timestamp": 1742348058796,
     "user": {
      "displayName": "Aravindh G",
      "userId": "04385603378061808080"
     },
     "user_tz": -330
    },
    "id": "IRDzCr9CBnkO",
    "outputId": "47063fcd-2738-466c-8de5-aa6cee7dbe63"
   },
   "outputs": [
    {
     "name": "stdout",
     "output_type": "stream",
     "text": [
      "add 15\n",
      "add False\n"
     ]
    }
   ],
   "source": [
    "a = 5\n",
    "b = 10\n",
    "c = True\n",
    "d = False\n",
    "print(\"add\",a+b)\n",
    "print(\"Boolean\",c and d)\n"
   ]
  },
  {
   "cell_type": "markdown",
   "metadata": {
    "id": "1B3zslm5cZ2Q"
   },
   "source": [
    "#Assignment and String"
   ]
  },
  {
   "cell_type": "code",
   "execution_count": null,
   "metadata": {
    "colab": {
     "base_uri": "https://localhost:8080/"
    },
    "executionInfo": {
     "elapsed": 15,
     "status": "ok",
     "timestamp": 1742348317206,
     "user": {
      "displayName": "Aravindh G",
      "userId": "04385603378061808080"
     },
     "user_tz": -330
    },
    "id": "9SCXYgRPC4Pq",
    "outputId": "ddcbdd9b-e4cf-4d50-fe87-828df97c49e5"
   },
   "outputs": [
    {
     "name": "stdout",
     "output_type": "stream",
     "text": [
      "10\n",
      "Hello World\n"
     ]
    }
   ],
   "source": [
    "a=5\n",
    "a += 5\n",
    "b = \"Hello\"\n",
    "c = \"World\"\n",
    "b += \" \" + c\n",
    "print(a)\n",
    "print(b)"
   ]
  },
  {
   "cell_type": "markdown",
   "metadata": {
    "id": "78lMdnjBcd_N"
   },
   "source": [
    "# Membership operator"
   ]
  },
  {
   "cell_type": "code",
   "execution_count": null,
   "metadata": {
    "colab": {
     "base_uri": "https://localhost:8080/"
    },
    "executionInfo": {
     "elapsed": 11,
     "status": "ok",
     "timestamp": 1742348858606,
     "user": {
      "displayName": "Aravindh G",
      "userId": "04385603378061808080"
     },
     "user_tz": -330
    },
    "id": "wn25rFSiEEA9",
    "outputId": "e1ed899f-5eea-455a-f50a-295a3556b3c7"
   },
   "outputs": [
    {
     "name": "stdout",
     "output_type": "stream",
     "text": [
      "True\n",
      "True\n",
      "True\n",
      "True\n",
      "False\n",
      "True\n"
     ]
    }
   ],
   "source": [
    "a = [1,2,3,4,5]\n",
    "b = (1,2,3,4,5)\n",
    "c = {1,2,3,4,5}\n",
    "d = set(c)\n",
    "e = \"Hello\"\n",
    "print(1 in a)\n",
    "print(1 in b)\n",
    "print(1 in c)\n",
    "print(1 in d)\n",
    "print(6 in d)\n",
    "print('o' in e)"
   ]
  },
  {
   "cell_type": "markdown",
   "metadata": {
    "id": "QD0H1sddch__"
   },
   "source": [
    "# Identify operator"
   ]
  },
  {
   "cell_type": "code",
   "execution_count": null,
   "metadata": {
    "colab": {
     "base_uri": "https://localhost:8080/"
    },
    "executionInfo": {
     "elapsed": 11,
     "status": "ok",
     "timestamp": 1742349087869,
     "user": {
      "displayName": "Aravindh G",
      "userId": "04385603378061808080"
     },
     "user_tz": -330
    },
    "id": "PFfRr_wBFmxy",
    "outputId": "e4d1cbb9-0008-4188-e050-1a3047f5765d"
   },
   "outputs": [
    {
     "name": "stdout",
     "output_type": "stream",
     "text": [
      "False\n",
      "False\n",
      "False\n",
      "False\n",
      "False\n",
      "True\n"
     ]
    }
   ],
   "source": [
    "a = [1,2,3,4,5]\n",
    "b = (1,2,3,4,5)\n",
    "c = {1,2,3,4,5}\n",
    "d = set(c)\n",
    "e = \"Hello\"\n",
    "f = [1,2,3,4,5]\n",
    "g = 10\n",
    "h = 10\n",
    "print(a is b)\n",
    "print(a is c)\n",
    "print(a is d)\n",
    "print(a is e)\n",
    "print(a is f)\n",
    "print(g is h)"
   ]
  },
  {
   "cell_type": "markdown",
   "metadata": {
    "id": "n1FUQr8Gclf6"
   },
   "source": [
    "# Ternary operator"
   ]
  },
  {
   "cell_type": "code",
   "execution_count": null,
   "metadata": {
    "colab": {
     "base_uri": "https://localhost:8080/"
    },
    "executionInfo": {
     "elapsed": 11,
     "status": "ok",
     "timestamp": 1742350928464,
     "user": {
      "displayName": "Aravindh G",
      "userId": "04385603378061808080"
     },
     "user_tz": -330
    },
    "id": "f0WV2Lf5MEaT",
    "outputId": "6b633100-5d4a-49d7-c4b0-4209dfa8dc31"
   },
   "outputs": [
    {
     "name": "stdout",
     "output_type": "stream",
     "text": [
      "20\n",
      "20\n"
     ]
    }
   ],
   "source": [
    "x = 10\n",
    "y = 20\n",
    "print(x if x > y else y)\n",
    "\n",
    "#if elif\n",
    "\n",
    "if x > y:\n",
    "    print(x)\n",
    "elif x == y:\n",
    "    print(x,y)\n",
    "else:\n",
    "    print(y)"
   ]
  },
  {
   "cell_type": "markdown",
   "metadata": {
    "id": "CArJIrA4S2e3"
   },
   "source": [
    "# Built - in functions"
   ]
  },
  {
   "cell_type": "code",
   "execution_count": null,
   "metadata": {
    "colab": {
     "base_uri": "https://localhost:8080/"
    },
    "executionInfo": {
     "elapsed": 49,
     "status": "ok",
     "timestamp": 1742383008784,
     "user": {
      "displayName": "Aravindh G",
      "userId": "04385603378061808080"
     },
     "user_tz": -330
    },
    "id": "IDwtrI8Z_lAc",
    "outputId": "ef3f5eae-0845-4de7-f47f-ff4f5ef8a3ae"
   },
   "outputs": [
    {
     "name": "stdout",
     "output_type": "stream",
     "text": [
      "Undertaker\n",
      "name: UNDERTAKER\n",
      "name is Undertaker\n",
      "name is Undertaker\n",
      "Undertaker, JohnCena\n",
      "name       name2     \n",
      "JohnCena   Undertaker\n",
      "Undertaker, JohnCena *** "
     ]
    }
   ],
   "source": [
    "# print functions\n",
    "\n",
    "name = \"Undertaker\"\n",
    "name2 = \"JohnCena\"\n",
    "print(name)\n",
    "print(\"name:\",name.upper())\n",
    "print(f\"name is {name}\")\n",
    "print(\"name is {}\".format(name))\n",
    "print(name,name2,sep=\", \")\n",
    "print(\"{:<10} {:<10}\".format(\"name\",\"name2\"))\n",
    "print(\"{1:<10} {0:<10}\".format(name,name2))\n",
    "print(name,name2,sep=\", \",end=\" *** \")"
   ]
  },
  {
   "cell_type": "code",
   "execution_count": null,
   "metadata": {
    "colab": {
     "base_uri": "https://localhost:8080/"
    },
    "executionInfo": {
     "elapsed": 14,
     "status": "ok",
     "timestamp": 1742388952400,
     "user": {
      "displayName": "Aravindh G",
      "userId": "04385603378061808080"
     },
     "user_tz": -330
    },
    "id": "p3ftCLKgeNP_",
    "outputId": "618e7c85-3641-4500-9b76-823cedb045ad"
   },
   "outputs": [
    {
     "name": "stdout",
     "output_type": "stream",
     "text": [
      "apple\n",
      "banana\n",
      "orange\n"
     ]
    }
   ],
   "source": [
    "fruits = ['apple', 'banana', 'orange']\n",
    "for fruit in fruits:\n",
    "    print(fruit)"
   ]
  },
  {
   "cell_type": "markdown",
   "metadata": {
    "id": "Z3o_MEeHc6ji"
   },
   "source": [
    "#Colors from rich library than ANSI codes"
   ]
  },
  {
   "cell_type": "code",
   "execution_count": null,
   "metadata": {
    "id": "xNnaZN1sLc89"
   },
   "outputs": [],
   "source": [
    "pip install rich\n",
    "from rich import print"
   ]
  },
  {
   "cell_type": "code",
   "execution_count": null,
   "metadata": {
    "colab": {
     "base_uri": "https://localhost:8080/",
     "height": 97
    },
    "executionInfo": {
     "elapsed": 59,
     "status": "ok",
     "timestamp": 1742384482816,
     "user": {
      "displayName": "Aravindh G",
      "userId": "04385603378061808080"
     },
     "user_tz": -330
    },
    "id": "QC3khl_oLsbS",
    "outputId": "3abbedc2-e261-4bd7-c28b-affeff348360"
   },
   "outputs": [
    {
     "data": {
      "text/html": [
       "<pre style=\"white-space:pre;overflow-x:auto;line-height:normal;font-family:Menlo,'DejaVu Sans Mono',consolas,'Courier New',monospace\"><span style=\"color: #800000; text-decoration-color: #800000\"> Red </span>\n",
       "</pre>\n"
      ],
      "text/plain": [
       "\u001b[31m Red \u001b[0m\n"
      ]
     },
     "metadata": {},
     "output_type": "display_data"
    },
    {
     "data": {
      "text/html": [
       "<pre style=\"white-space:pre;overflow-x:auto;line-height:normal;font-family:Menlo,'DejaVu Sans Mono',consolas,'Courier New',monospace\"><span style=\"color: #c0c0c0; text-decoration-color: #c0c0c0; font-weight: bold\"> White </span>\n",
       "</pre>\n"
      ],
      "text/plain": [
       "\u001b[1;37m White \u001b[0m\n"
      ]
     },
     "metadata": {},
     "output_type": "display_data"
    },
    {
     "data": {
      "text/html": [
       "<pre style=\"white-space:pre;overflow-x:auto;line-height:normal;font-family:Menlo,'DejaVu Sans Mono',consolas,'Courier New',monospace\"><span style=\"color: #008000; text-decoration-color: #008000; text-decoration: underline\"> Green </span>\n",
       "</pre>\n"
      ],
      "text/plain": [
       "\u001b[4;32m Green \u001b[0m\n"
      ]
     },
     "metadata": {},
     "output_type": "display_data"
    },
    {
     "data": {
      "text/html": [
       "<pre style=\"white-space:pre;overflow-x:auto;line-height:normal;font-family:Menlo,'DejaVu Sans Mono',consolas,'Courier New',monospace\"><span style=\"color: #000080; text-decoration-color: #000080; font-style: italic\"> Blue </span>\n",
       "</pre>\n"
      ],
      "text/plain": [
       "\u001b[3;34m Blue \u001b[0m\n"
      ]
     },
     "metadata": {},
     "output_type": "display_data"
    },
    {
     "data": {
      "text/html": [
       "<pre style=\"white-space:pre;overflow-x:auto;line-height:normal;font-family:Menlo,'DejaVu Sans Mono',consolas,'Courier New',monospace\"> Green \n",
       "</pre>\n"
      ],
      "text/plain": [
       " Green \n"
      ]
     },
     "metadata": {},
     "output_type": "display_data"
    }
   ],
   "source": [
    "print(\"[red] Red [/red]\")\n",
    "print(\"[bold white] White [/bold white]\")\n",
    "print(\"[underline green] Green [/underline green]\")\n",
    "print(\"[italic blue] Blue [/italic blue]\")"
   ]
  },
  {
   "cell_type": "markdown",
   "metadata": {
    "id": "tknXF-ogNn3W"
   },
   "source": [
    "# Dynamic Inputs"
   ]
  },
  {
   "cell_type": "code",
   "execution_count": null,
   "metadata": {
    "colab": {
     "base_uri": "https://localhost:8080/"
    },
    "executionInfo": {
     "elapsed": 4419,
     "status": "ok",
     "timestamp": 1742387905301,
     "user": {
      "displayName": "Aravindh G",
      "userId": "04385603378061808080"
     },
     "user_tz": -330
    },
    "id": "zwpLFOLNMcPS",
    "outputId": "2c7bee82-ee2a-42a3-bd50-e384010eb3d7"
   },
   "outputs": [
    {
     "name": "stdout",
     "output_type": "stream",
     "text": [
      "Enter your name: Aravindh\n",
      "Enter your age: 29\n",
      "name is: | Aravindh | age is: | 29 | age datatype: | <class 'str'> | length of name: | 8 | length of age: | 2 | Age Entered?: | True\n"
     ]
    }
   ],
   "source": [
    "name = input(\"Enter your name: \")\n",
    "age = input(\"Enter your age: \")\n",
    "print(\"name is:\",name,\"age is:\",age,\"age datatype:\",\n",
    "      type(age),\"length of name:\",len(name),\"length of age:\",len(age)\n",
    "      ,\"Age Entered?:\",bool(age),sep=\" | \")\n"
   ]
  },
  {
   "cell_type": "markdown",
   "metadata": {
    "id": "_RIl7nURbKIH"
   },
   "source": [
    "# Range"
   ]
  },
  {
   "cell_type": "code",
   "execution_count": null,
   "metadata": {
    "colab": {
     "base_uri": "https://localhost:8080/"
    },
    "executionInfo": {
     "elapsed": 15,
     "status": "ok",
     "timestamp": 1742393871038,
     "user": {
      "displayName": "Aravindh G",
      "userId": "04385603378061808080"
     },
     "user_tz": -330
    },
    "id": "rb-YrKDdwX-9",
    "outputId": "9c3f83fa-65e5-420b-d8b6-8e4964d9d34e"
   },
   "outputs": [
    {
     "name": "stdout",
     "output_type": "stream",
     "text": [
      "0\n",
      "1\n",
      "2\n",
      "3\n",
      "4\n"
     ]
    }
   ],
   "source": [
    "for i in range(5):\n",
    "    print(i)"
   ]
  },
  {
   "cell_type": "code",
   "execution_count": null,
   "metadata": {
    "colab": {
     "base_uri": "https://localhost:8080/"
    },
    "executionInfo": {
     "elapsed": 14,
     "status": "ok",
     "timestamp": 1742393924160,
     "user": {
      "displayName": "Aravindh G",
      "userId": "04385603378061808080"
     },
     "user_tz": -330
    },
    "id": "CZgzheeZxMLC",
    "outputId": "86248c6c-7bf5-4b43-907f-a5e2db83acee"
   },
   "outputs": [
    {
     "name": "stdout",
     "output_type": "stream",
     "text": [
      "10\n",
      "9\n",
      "8\n",
      "7\n",
      "6\n",
      "5\n",
      "4\n",
      "3\n",
      "2\n",
      "1\n"
     ]
    }
   ],
   "source": [
    "for j in range(10,0,-1):\n",
    "    print(j)"
   ]
  },
  {
   "cell_type": "markdown",
   "metadata": {
    "id": "95kfzxsU0g4I"
   },
   "source": [
    "# Aggregations"
   ]
  },
  {
   "cell_type": "code",
   "execution_count": null,
   "metadata": {
    "colab": {
     "base_uri": "https://localhost:8080/"
    },
    "executionInfo": {
     "elapsed": 39,
     "status": "ok",
     "timestamp": 1742563793396,
     "user": {
      "displayName": "Aravindh G",
      "userId": "04385603378061808080"
     },
     "user_tz": -330
    },
    "id": "ZpNvJst2zI8K",
    "outputId": "a56d0cfa-c61a-4698-c456-4b5e0489d145"
   },
   "outputs": [
    {
     "name": "stdout",
     "output_type": "stream",
     "text": [
      "range(0, 5) 10\n",
      "[0, 1, 2, 3, 4] 10\n",
      "(0, 1, 2, 3, 4) 4\n",
      "[0, 1, 2, 3, 4] 0\n",
      "{0, 1, 2, 3, 4} 10\n",
      "['apple', 'orange', 'banana', 'banana'] ['apple', 'banana', 'banana', 'orange']\n",
      "{'apple', 'banana', 'orange'}\n",
      "{1, 2, 3, 5}\n",
      "range(0, 5) 5\n"
     ]
    }
   ],
   "source": [
    "a = range(5)\n",
    "b = list(range(5))\n",
    "c = tuple(range(5))\n",
    "d = [0,1,2,3,4]\n",
    "e = set(a)\n",
    "f = [\"apple\",\"orange\",\"banana\",\"banana\"]\n",
    "g = {\"apple\",\"orange\",\"banana\",\"banana\"}\n",
    "h = {1,2,5,3}\n",
    "print(a,sum(a))\n",
    "print(b,sum(b))\n",
    "print(c,max(c))\n",
    "print(d,min(d))\n",
    "print(e,sum(e))\n",
    "print(f,sorted(f))\n",
    "print(g)\n",
    "print(h)\n",
    "print(a,len(a))"
   ]
  },
  {
   "cell_type": "markdown",
   "metadata": {
    "id": "s79LAqWj1-TC"
   },
   "source": [
    "# Domain: Electrical - Temperature conversion"
   ]
  },
  {
   "cell_type": "code",
   "execution_count": null,
   "metadata": {
    "colab": {
     "base_uri": "https://localhost:8080/"
    },
    "executionInfo": {
     "elapsed": 1762,
     "status": "ok",
     "timestamp": 1742395781489,
     "user": {
      "displayName": "Aravindh G",
      "userId": "04385603378061808080"
     },
     "user_tz": -330
    },
    "id": "HCsiD5YV2Y3N",
    "outputId": "d11c810c-5385-4c14-d874-a5debc8d7a86"
   },
   "outputs": [
    {
     "name": "stdout",
     "output_type": "stream",
     "text": [
      "Enter the temperature in celsius: 30\n",
      "Fahrenheit value for 30.0 is: 86.0\n"
     ]
    }
   ],
   "source": [
    "celsius = input(\"Enter the temperature in celsius: \")\n",
    "celsius = float(celsius)\n",
    "\n",
    "print(f\"Fahrenheit value for {celsius} is:\",((celsius * 9/5) + 32))"
   ]
  },
  {
   "cell_type": "code",
   "execution_count": null,
   "metadata": {
    "colab": {
     "base_uri": "https://localhost:8080/"
    },
    "executionInfo": {
     "elapsed": 5730,
     "status": "ok",
     "timestamp": 1742395795418,
     "user": {
      "displayName": "Aravindh G",
      "userId": "04385603378061808080"
     },
     "user_tz": -330
    },
    "id": "cBPhUBVz3UMY",
    "outputId": "7ad587fe-51a6-4109-88de-66fac8cb35b1"
   },
   "outputs": [
    {
     "name": "stdout",
     "output_type": "stream",
     "text": [
      "Enter the temperature in fahrenheit: 86\n",
      "Celsius value for 86.0 is: 30.0\n"
     ]
    }
   ],
   "source": [
    "fahrenheit = input(\"Enter the temperature in fahrenheit: \")\n",
    "fahrenheit = float(fahrenheit)\n",
    "\n",
    "print(f\"Celsius value for {fahrenheit} is:\",((fahrenheit - 32) * 5/9))"
   ]
  },
  {
   "cell_type": "markdown",
   "metadata": {
    "id": "HRL3L4_u5Nmj"
   },
   "source": [
    "# Domain: Marketing"
   ]
  },
  {
   "cell_type": "code",
   "execution_count": null,
   "metadata": {
    "colab": {
     "base_uri": "https://localhost:8080/"
    },
    "executionInfo": {
     "elapsed": 6060,
     "status": "ok",
     "timestamp": 1742397602687,
     "user": {
      "displayName": "Aravindh G",
      "userId": "04385603378061808080"
     },
     "user_tz": -330
    },
    "id": "v0yYGtac68zF",
    "outputId": "fbb24b26-dc59-43e5-ef10-d2124246608a"
   },
   "outputs": [
    {
     "name": "stdout",
     "output_type": "stream",
     "text": [
      "Enter the price: 1799\n",
      "Is it your birthday month? (y/n): n\n",
      "Total Payable is 629.65\n"
     ]
    }
   ],
   "source": [
    "discount = 0.35\n",
    "additional_discount = 0.10\n",
    "purchase_amount = int(input(\"Enter the price: \"))\n",
    "birthday = input(\"Is it your birthday month? (y/n): \")\n",
    "birthday_yes = (purchase_amount * discount) + (purchase_amount * additional_discount)\n",
    "birthday_no = (purchase_amount * discount)\n",
    "\n",
    "if birthday == \"y\":\n",
    "    print(\"Total Payable is\",birthday_yes)\n",
    "else:\n",
    "    print(\"Total Payable is\",birthday_no)"
   ]
  },
  {
   "cell_type": "code",
   "execution_count": null,
   "metadata": {
    "colab": {
     "base_uri": "https://localhost:8080/"
    },
    "executionInfo": {
     "elapsed": 3871,
     "status": "ok",
     "timestamp": 1742397732916,
     "user": {
      "displayName": "Aravindh G",
      "userId": "04385603378061808080"
     },
     "user_tz": -330
    },
    "id": "l96PD2dD_bng",
    "outputId": "3f89273e-0035-42a5-eff7-a954078834eb"
   },
   "outputs": [
    {
     "name": "stdout",
     "output_type": "stream",
     "text": [
      "Enter the price: 1799\n",
      "Is it your birthday month? (y/n): y\n",
      "Total Payable is 809.55\n"
     ]
    }
   ],
   "source": [
    "discount = 0.35\n",
    "additional_discount = 0.10\n",
    "purchase_amount = int(input(\"Enter the price: \"))\n",
    "birthday = input(\"Is it your birthday month? (y/n): \")\n",
    "birthday_yes = (purchase_amount * (discount + additional_discount))\n",
    "birthday_no = (purchase_amount * discount)\n",
    "\n",
    "if birthday == \"y\":\n",
    "    print(\"Total Payable is\",birthday_yes)\n",
    "else:\n",
    "    print(\"Total Payable is\",birthday_no)"
   ]
  },
  {
   "cell_type": "markdown",
   "metadata": {
    "id": "1AKWwDr8__27"
   },
   "source": [
    "# Domain: Finance"
   ]
  },
  {
   "cell_type": "code",
   "execution_count": null,
   "metadata": {
    "colab": {
     "base_uri": "https://localhost:8080/"
    },
    "executionInfo": {
     "elapsed": 16,
     "status": "ok",
     "timestamp": 1742398003739,
     "user": {
      "displayName": "Aravindh G",
      "userId": "04385603378061808080"
     },
     "user_tz": -330
    },
    "id": "-OgVLQpuAMYe",
    "outputId": "a1af82e9-5808-4e67-bea4-cf687148bb26"
   },
   "outputs": [
    {
     "name": "stdout",
     "output_type": "stream",
     "text": [
      "Monthly Expense: 100.0\n",
      "Monthly Expense: 122.56\n",
      "Monthly Expense: 122.6\n",
      "Monthly Expense: 123.0\n",
      "Monthly Expense: 120.0\n"
     ]
    }
   ],
   "source": [
    "monthly_expense = 122.56\n",
    "print(\"Monthly Expense:\", round(monthly_expense,-2))\n",
    "print(\"Monthly Expense:\", round(monthly_expense,2))\n",
    "print(\"Monthly Expense:\", round(monthly_expense,1))\n",
    "print(\"Monthly Expense:\", round(monthly_expense,0))\n",
    "print(\"Monthly Expense:\", round(monthly_expense,-1))"
   ]
  },
  {
   "cell_type": "code",
   "execution_count": null,
   "metadata": {
    "colab": {
     "base_uri": "https://localhost:8080/"
    },
    "executionInfo": {
     "elapsed": 13,
     "status": "ok",
     "timestamp": 1742400845955,
     "user": {
      "displayName": "Aravindh G",
      "userId": "04385603378061808080"
     },
     "user_tz": -330
    },
    "id": "JO9ZXA2nLNjw",
    "outputId": "f126e0bf-de7d-4089-921c-1ec22b185226"
   },
   "outputs": [
    {
     "name": "stdout",
     "output_type": "stream",
     "text": [
      "Simple interest: 37440.0\n",
      "Total amount receivable: 69440.0\n"
     ]
    }
   ],
   "source": [
    "p = 32000\n",
    "n = 15\n",
    "r = 7.8\n",
    "si = (p*n*r)/100\n",
    "print(\"Simple interest:\",si)\n",
    "print(\"Total amount receivable:\",p+si)"
   ]
  },
  {
   "cell_type": "code",
   "execution_count": null,
   "metadata": {
    "colab": {
     "base_uri": "https://localhost:8080/"
    },
    "executionInfo": {
     "elapsed": 31,
     "status": "ok",
     "timestamp": 1742401068229,
     "user": {
      "displayName": "Aravindh G",
      "userId": "04385603378061808080"
     },
     "user_tz": -330
    },
    "id": "RTSVPUecL1xa",
    "outputId": "58e20dcb-8557-46c5-9aa7-6ba5ba500b0f"
   },
   "outputs": [
    {
     "name": "stdout",
     "output_type": "stream",
     "text": [
      "Monthly Salary excluding GST: 50400.0\n",
      "Annual Salary excluding GST: 604800.0\n"
     ]
    }
   ],
   "source": [
    "annual_CTC = 672000\n",
    "GST = 0.10\n",
    "monthlysalary = (annual_CTC - (annual_CTC * GST))/12\n",
    "print(\"Monthly Salary excluding GST:\",round(monthlysalary,2))\n",
    "print(\"Annual Salary excluding GST:\",round(monthlysalary*12,2))"
   ]
  },
  {
   "cell_type": "markdown",
   "metadata": {
    "id": "HR6X0JAWMuyN"
   },
   "source": [
    "# Domain: Operations"
   ]
  },
  {
   "cell_type": "code",
   "execution_count": null,
   "metadata": {
    "colab": {
     "base_uri": "https://localhost:8080/"
    },
    "executionInfo": {
     "elapsed": 24,
     "status": "ok",
     "timestamp": 1742401573768,
     "user": {
      "displayName": "Aravindh G",
      "userId": "04385603378061808080"
     },
     "user_tz": -330
    },
    "id": "FELSkhB1NX-l",
    "outputId": "e354bdb6-3eda-421b-8f60-09c480cd6fc5"
   },
   "outputs": [
    {
     "name": "stdout",
     "output_type": "stream",
     "text": [
      "20\n",
      "-10\n",
      "75\n",
      "0.3333333333333333\n",
      "0\n",
      "5\n"
     ]
    }
   ],
   "source": [
    "a = 5\n",
    "b = 15\n",
    "print(a+b)\n",
    "print(a-b)\n",
    "print(a*b)\n",
    "print(a/b)\n",
    "print(a//b)\n",
    "print(a%b)"
   ]
  },
  {
   "cell_type": "code",
   "execution_count": null,
   "metadata": {
    "colab": {
     "base_uri": "https://localhost:8080/"
    },
    "executionInfo": {
     "elapsed": 56,
     "status": "ok",
     "timestamp": 1742402170186,
     "user": {
      "displayName": "Aravindh G",
      "userId": "04385603378061808080"
     },
     "user_tz": -330
    },
    "id": "1GTHFmqjQVcj",
    "outputId": "5e05cf18-bb7a-47e6-a3d7-a048904a82e5"
   },
   "outputs": [
    {
     "name": "stdout",
     "output_type": "stream",
     "text": [
      "a is less than b\n"
     ]
    }
   ],
   "source": [
    "a = 10\n",
    "b = 15\n",
    "\n",
    "if a==b:\n",
    "  print(\"a is equal to b\")\n",
    "elif a>b:\n",
    "  print(\"a is greater than b\")\n",
    "elif b>a:\n",
    "  print(\"a is less than b\")"
   ]
  },
  {
   "cell_type": "code",
   "execution_count": null,
   "metadata": {
    "colab": {
     "base_uri": "https://localhost:8080/"
    },
    "executionInfo": {
     "elapsed": 36,
     "status": "ok",
     "timestamp": 1742402021794,
     "user": {
      "displayName": "Aravindh G",
      "userId": "04385603378061808080"
     },
     "user_tz": -330
    },
    "id": "_DHNfmhvPX4r",
    "outputId": "ca3c3379-463b-42e1-a3f3-317bdfb87449"
   },
   "outputs": [
    {
     "name": "stdout",
     "output_type": "stream",
     "text": [
      "c is greater\n"
     ]
    }
   ],
   "source": [
    "a = 5\n",
    "b = 10\n",
    "c = 15\n",
    "\n",
    "if a>b and a>c:\n",
    "  print(\"a is greater\")\n",
    "elif b>c and c>a:\n",
    "  print(\"b is greater\")\n",
    "else:\n",
    "  print(\"c is greater\")"
   ]
  },
  {
   "cell_type": "markdown",
   "metadata": {
    "id": "wnS1Uf2dRMZo"
   },
   "source": [
    "# Domain: Automotive"
   ]
  },
  {
   "cell_type": "code",
   "execution_count": null,
   "metadata": {
    "colab": {
     "base_uri": "https://localhost:8080/"
    },
    "executionInfo": {
     "elapsed": 2484,
     "status": "ok",
     "timestamp": 1742402412667,
     "user": {
      "displayName": "Aravindh G",
      "userId": "04385603378061808080"
     },
     "user_tz": -330
    },
    "id": "e_yal2EYRJ-O",
    "outputId": "0ed89360-fdeb-40aa-dee4-d62c2faa365a"
   },
   "outputs": [
    {
     "name": "stdout",
     "output_type": "stream",
     "text": [
      "Enter the speed_units in mph: 60\n",
      "Speed in kmph: 96.5604\n"
     ]
    }
   ],
   "source": [
    "mph = float(input(\"Enter the speed_units in mph: \"))\n",
    "kmph = mph*1.60934\n",
    "print(\"Speed in kmph:\",kmph)"
   ]
  },
  {
   "cell_type": "code",
   "execution_count": null,
   "metadata": {
    "colab": {
     "base_uri": "https://localhost:8080/"
    },
    "executionInfo": {
     "elapsed": 29,
     "status": "ok",
     "timestamp": 1742403164178,
     "user": {
      "displayName": "Aravindh G",
      "userId": "04385603378061808080"
     },
     "user_tz": -330
    },
    "id": "soyj1VDASUdB",
    "outputId": "068979a7-441c-455e-83a1-bfe9bae6fb1b"
   },
   "outputs": [
    {
     "name": "stdout",
     "output_type": "stream",
     "text": [
      "Fuel efficiency: 18.0 kmpl\n",
      "Fuel efficiency: 42.33862029283951 mpg\n"
     ]
    }
   ],
   "source": [
    "distance = 360\n",
    "fuel = 20\n",
    "distance_miles = 360*0.621371\n",
    "fuel_gallon = 20*0.264172\n",
    "print(\"Fuel efficiency:\",distance/fuel,\"kmpl\")\n",
    "print(\"Fuel efficiency:\",distance_miles/fuel_gallon,\"mpg\")"
   ]
  },
  {
   "cell_type": "markdown",
   "metadata": {
    "id": "z-rGngypVnv_"
   },
   "source": [
    "# Domain: Banking"
   ]
  },
  {
   "cell_type": "code",
   "execution_count": null,
   "metadata": {
    "colab": {
     "base_uri": "https://localhost:8080/"
    },
    "executionInfo": {
     "elapsed": 8734,
     "status": "ok",
     "timestamp": 1742403865511,
     "user": {
      "displayName": "Aravindh G",
      "userId": "04385603378061808080"
     },
     "user_tz": -330
    },
    "id": "xfqnnfsvVzkM",
    "outputId": "1a9f28a2-c792-43fd-de05-5be6606e6881"
   },
   "outputs": [
    {
     "name": "stdout",
     "output_type": "stream",
     "text": [
      "Amount in USD: 1000000\n",
      "Amount in INR: 86300000\n"
     ]
    }
   ],
   "source": [
    "exchange_rate = 86.30\n",
    "usd = float(input(\"Amount in USD: \"))\n",
    "print(\"Amount in INR:\",int(round(usd*exchange_rate,0)))"
   ]
  },
  {
   "cell_type": "code",
   "execution_count": null,
   "metadata": {
    "colab": {
     "base_uri": "https://localhost:8080/"
    },
    "executionInfo": {
     "elapsed": 22,
     "status": "ok",
     "timestamp": 1742404434455,
     "user": {
      "displayName": "Aravindh G",
      "userId": "04385603378061808080"
     },
     "user_tz": -330
    },
    "id": "DDwYJh3tYYL-",
    "outputId": "f8285c64-a8dd-4140-ca02-8c98f7a320d9"
   },
   "outputs": [
    {
     "name": "stdout",
     "output_type": "stream",
     "text": [
      "Simple interest is: 35100.0\n"
     ]
    }
   ],
   "source": [
    "def si(p,n,r):\n",
    "  return p*n*r/100\n",
    "\n",
    "print(\"Simple interest is:\",si(30000,15,7.8))"
   ]
  },
  {
   "cell_type": "markdown",
   "metadata": {
    "id": "UcUJwe2EcMCv"
   },
   "source": [
    "# Control flow (if, elif, else)"
   ]
  },
  {
   "cell_type": "code",
   "execution_count": null,
   "metadata": {
    "colab": {
     "base_uri": "https://localhost:8080/"
    },
    "executionInfo": {
     "elapsed": 32,
     "status": "ok",
     "timestamp": 1742405307213,
     "user": {
      "displayName": "Aravindh G",
      "userId": "04385603378061808080"
     },
     "user_tz": -330
    },
    "id": "qmJoIi0FcVOG",
    "outputId": "2e8cd1e9-f6ea-43ae-a1f5-c7388f2193f9"
   },
   "outputs": [
    {
     "name": "stdout",
     "output_type": "stream",
     "text": [
      "a is not 0\n",
      "a > b\n"
     ]
    }
   ],
   "source": [
    "#nested if\n",
    "a = 15\n",
    "b = 10\n",
    "\n",
    "if a != 0:\n",
    "  print(\"a is not 0\")\n",
    "  if a>b:\n",
    "    print(\"a > b\")\n",
    "else:\n",
    "  print(\"b > a\")"
   ]
  },
  {
   "cell_type": "markdown",
   "metadata": {
    "id": "cLpD-9oVdAQc"
   },
   "source": [
    "# Loops"
   ]
  },
  {
   "cell_type": "code",
   "execution_count": null,
   "metadata": {
    "colab": {
     "base_uri": "https://localhost:8080/"
    },
    "executionInfo": {
     "elapsed": 50,
     "status": "ok",
     "timestamp": 1742433537972,
     "user": {
      "displayName": "Aravindh G",
      "userId": "04385603378061808080"
     },
     "user_tz": -330
    },
    "id": "AZe1aOGDICmD",
    "outputId": "187a6074-c20d-4200-ccda-889e2c1d56c3"
   },
   "outputs": [
    {
     "name": "stdout",
     "output_type": "stream",
     "text": [
      "apple\n",
      "orange\n",
      "banana\n"
     ]
    }
   ],
   "source": [
    "#for\n",
    "fruits = [\"apple\",\"orange\",\"banana\"]\n",
    "\n",
    "for i in fruits:\n",
    "  print(i)"
   ]
  },
  {
   "cell_type": "code",
   "execution_count": null,
   "metadata": {
    "colab": {
     "base_uri": "https://localhost:8080/"
    },
    "executionInfo": {
     "elapsed": 29,
     "status": "ok",
     "timestamp": 1742433935030,
     "user": {
      "displayName": "Aravindh G",
      "userId": "04385603378061808080"
     },
     "user_tz": -330
    },
    "id": "05Q3WEJFIinA",
    "outputId": "be9648cf-09e8-49ae-ccce-d61e0f4c7525"
   },
   "outputs": [
    {
     "name": "stdout",
     "output_type": "stream",
     "text": [
      "0\n",
      "1\n",
      "Reached 2\n",
      "2\n",
      "Reached 3\n"
     ]
    }
   ],
   "source": [
    "#while\n",
    "count = 0\n",
    "while count < 5:\n",
    "  print(count)\n",
    "  count += 1\n",
    "  if count ==2:\n",
    "    print(\"Reached 2\")\n",
    "    continue\n",
    "  if count ==3:\n",
    "    print(\"Reached 3\")\n",
    "    break\n"
   ]
  },
  {
   "cell_type": "markdown",
   "metadata": {
    "id": "CXtm_oVBMRjk"
   },
   "source": [
    "# Functions"
   ]
  },
  {
   "cell_type": "code",
   "execution_count": null,
   "metadata": {
    "colab": {
     "base_uri": "https://localhost:8080/"
    },
    "executionInfo": {
     "elapsed": 43,
     "status": "ok",
     "timestamp": 1742434670921,
     "user": {
      "displayName": "Aravindh G",
      "userId": "04385603378061808080"
     },
     "user_tz": -330
    },
    "id": "K4EVtb_9MXJA",
    "outputId": "d502ec2b-1587-4fb9-cb6a-df35e4cbceec"
   },
   "outputs": [
    {
     "name": "stdout",
     "output_type": "stream",
     "text": [
      "15\n"
     ]
    }
   ],
   "source": [
    "def add_numbers(a,b):\n",
    "  return a+b\n",
    "\n",
    "print(add_numbers(5,10))"
   ]
  },
  {
   "cell_type": "markdown",
   "metadata": {
    "id": "YuZWbcVHNaDF"
   },
   "source": [
    "# Local and Global variable"
   ]
  },
  {
   "cell_type": "code",
   "execution_count": null,
   "metadata": {
    "colab": {
     "base_uri": "https://localhost:8080/"
    },
    "executionInfo": {
     "elapsed": 46,
     "status": "ok",
     "timestamp": 1742435084193,
     "user": {
      "displayName": "Aravindh G",
      "userId": "04385603378061808080"
     },
     "user_tz": -330
    },
    "id": "46nmn0JhNeW7",
    "outputId": "51534c8d-62f2-4652-b54a-5e8a1aa26c51"
   },
   "outputs": [
    {
     "name": "stdout",
     "output_type": "stream",
     "text": [
      "5\n"
     ]
    }
   ],
   "source": [
    "def loc_variable():\n",
    "  a = 5\n",
    "  print(a)\n",
    "\n",
    "loc_variable()\n",
    "# print(a) #local variable (Error)"
   ]
  },
  {
   "cell_type": "code",
   "execution_count": null,
   "metadata": {
    "colab": {
     "base_uri": "https://localhost:8080/"
    },
    "executionInfo": {
     "elapsed": 9,
     "status": "ok",
     "timestamp": 1742435089346,
     "user": {
      "displayName": "Aravindh G",
      "userId": "04385603378061808080"
     },
     "user_tz": -330
    },
    "id": "vamYsVbZOXCz",
    "outputId": "e2eb78cd-bacc-4b53-98f1-31cd102ceeb2"
   },
   "outputs": [
    {
     "name": "stdout",
     "output_type": "stream",
     "text": [
      "5\n",
      "5\n"
     ]
    }
   ],
   "source": [
    "a=5\n",
    "def gl_variable():\n",
    "  print(a)\n",
    "\n",
    "gl_variable()\n",
    "print(a) #global variable"
   ]
  },
  {
   "cell_type": "code",
   "execution_count": null,
   "metadata": {
    "colab": {
     "base_uri": "https://localhost:8080/"
    },
    "executionInfo": {
     "elapsed": 12,
     "status": "ok",
     "timestamp": 1742435326951,
     "user": {
      "displayName": "Aravindh G",
      "userId": "04385603378061808080"
     },
     "user_tz": -330
    },
    "id": "gxwO4PrBOv5J",
    "outputId": "14ad3751-aef4-4e6f-d657-511dc3735c41"
   },
   "outputs": [
    {
     "name": "stdout",
     "output_type": "stream",
     "text": [
      "15\n",
      "5\n"
     ]
    }
   ],
   "source": [
    "# Function parameters\n",
    "\n",
    "def add(a,b):\n",
    "  print(a+b)\n",
    "\n",
    "add(5,10)\n",
    "print(a) #global variable\n",
    "# print(b) #local variable (Error)"
   ]
  },
  {
   "cell_type": "code",
   "execution_count": null,
   "metadata": {
    "colab": {
     "base_uri": "https://localhost:8080/"
    },
    "executionInfo": {
     "elapsed": 12,
     "status": "ok",
     "timestamp": 1742456276671,
     "user": {
      "displayName": "Aravindh G",
      "userId": "04385603378061808080"
     },
     "user_tz": -330
    },
    "id": "DjvqnRBXQyld",
    "outputId": "d67af491-5d73-4186-e805-a8b8b04245d8"
   },
   "outputs": [
    {
     "name": "stdout",
     "output_type": "stream",
     "text": [
      "5\n"
     ]
    }
   ],
   "source": [
    "# Nested\n",
    "\n",
    "def inner():\n",
    "  a = 5\n",
    "  def outer():\n",
    "    print(a)\n",
    "  outer()\n",
    "\n",
    "inner()"
   ]
  },
  {
   "cell_type": "markdown",
   "metadata": {
    "id": "Uq6PHjDWttJe"
   },
   "source": [
    "# Upload and Import modules"
   ]
  },
  {
   "cell_type": "code",
   "execution_count": null,
   "metadata": {
    "colab": {
     "base_uri": "https://localhost:8080/"
    },
    "executionInfo": {
     "elapsed": 4,
     "status": "ok",
     "timestamp": 1742460119668,
     "user": {
      "displayName": "Aravindh G",
      "userId": "04385603378061808080"
     },
     "user_tz": -330
    },
    "id": "UKJbi2DLtzRH",
    "outputId": "cf5a9498-bb49-4412-8d1f-d6251839a7f7"
   },
   "outputs": [
    {
     "name": "stdout",
     "output_type": "stream",
     "text": [
      "4.0\n"
     ]
    }
   ],
   "source": [
    "import math\n",
    "\n",
    "a = math.sqrt(16)\n",
    "print(a)"
   ]
  },
  {
   "cell_type": "code",
   "execution_count": null,
   "metadata": {
    "colab": {
     "base_uri": "https://localhost:8080/"
    },
    "executionInfo": {
     "elapsed": 4,
     "status": "ok",
     "timestamp": 1742460224118,
     "user": {
      "displayName": "Aravindh G",
      "userId": "04385603378061808080"
     },
     "user_tz": -330
    },
    "id": "rEYz6Y5Mt5e9",
    "outputId": "578840ba-184b-46f3-c457-dd699b19bcdb"
   },
   "outputs": [
    {
     "name": "stdout",
     "output_type": "stream",
     "text": [
      "9\n",
      "0.5880481805315608\n"
     ]
    }
   ],
   "source": [
    "import random\n",
    "\n",
    "a = random.randint(1,10)\n",
    "b = random.random()\n",
    "print(a)\n",
    "print(b)"
   ]
  },
  {
   "cell_type": "code",
   "execution_count": null,
   "metadata": {
    "colab": {
     "base_uri": "https://localhost:8080/"
    },
    "executionInfo": {
     "elapsed": 35,
     "status": "ok",
     "timestamp": 1742469249553,
     "user": {
      "displayName": "Aravindh G",
      "userId": "04385603378061808080"
     },
     "user_tz": -330
    },
    "id": "uoiqVsh_HYtk",
    "outputId": "cd6f0c04-5727-48fd-8a76-8a9b5c360747"
   },
   "outputs": [
    {
     "data": {
      "text/plain": [
       "78.53975"
      ]
     },
     "execution_count": 11,
     "metadata": {},
     "output_type": "execute_result"
    }
   ],
   "source": [
    "def area_circle(radius):\n",
    "  return 3.14159*radius** 2\n",
    "\n",
    "PI = 3.14159"
   ]
  },
  {
   "cell_type": "code",
   "execution_count": null,
   "metadata": {
    "colab": {
     "base_uri": "https://localhost:8080/"
    },
    "executionInfo": {
     "elapsed": 17,
     "status": "ok",
     "timestamp": 1742469702098,
     "user": {
      "displayName": "Aravindh G",
      "userId": "04385603378061808080"
     },
     "user_tz": -330
    },
    "id": "Qk-OSvVTHx5F",
    "outputId": "17d3cac8-e0de-41cd-de0f-a9263cd12a2b"
   },
   "outputs": [
    {
     "name": "stdout",
     "output_type": "stream",
     "text": [
      "314.159\n",
      "3.14159\n"
     ]
    }
   ],
   "source": [
    "#from google.colab import files\n",
    "#files.upload()\n",
    "\n",
    "import mymodule\n",
    "print(mymodule.area_circle(10))\n",
    "print(mymodule.PI)\n"
   ]
  },
  {
   "cell_type": "markdown",
   "metadata": {
    "id": "ENJN7PQZZKxa"
   },
   "source": [
    "# To do list project"
   ]
  },
  {
   "cell_type": "code",
   "execution_count": null,
   "metadata": {
    "colab": {
     "base_uri": "https://localhost:8080/"
    },
    "executionInfo": {
     "elapsed": 6103,
     "status": "ok",
     "timestamp": 1742488211862,
     "user": {
      "displayName": "Aravindh G",
      "userId": "04385603378061808080"
     },
     "user_tz": -330
    },
    "id": "GrWrN1gWSOCe",
    "outputId": "b78e5252-c20d-4dc9-abb2-323c755b0398"
   },
   "outputs": [
    {
     "name": "stdout",
     "output_type": "stream",
     "text": [
      "1. Add task\n",
      "2. Mark task as completed\n",
      "3. Display tasks\n",
      "4. Exit\n",
      "Enter your choice: 3\n",
      "Tasks:\n",
      "1. Add task\n",
      "2. Mark task as completed\n",
      "3. Display tasks\n",
      "4. Exit\n",
      "Enter your choice: 3\n",
      "Tasks:\n",
      "1. Add task\n",
      "2. Mark task as completed\n",
      "3. Display tasks\n",
      "4. Exit\n",
      "Enter your choice: 4\n"
     ]
    }
   ],
   "source": [
    "from ast import Continue\n",
    "tasks = []\n",
    "\n",
    "while True:\n",
    "  print(\"1. Add task\")\n",
    "  print(\"2. Mark task as completed\")\n",
    "  print(\"3. Display tasks\")\n",
    "  print(\"4. Exit\")\n",
    "\n",
    "  choice = input(\"Enter your choice: \")\n",
    "  if choice == \"1\":\n",
    "    task = input(\"Enter task: \")\n",
    "    tasks.append(task)\n",
    "    print(\"Task added\")\n",
    "  elif choice == \"2\":\n",
    "    for i, task in enumerate(tasks):\n",
    "      print(f\"{i+1}. {task}\")\n",
    "    task = input(\"Enter task to mark as completed: \")\n",
    "    if task in tasks:\n",
    "      tasks.remove(task)\n",
    "      print(\"Task marked as completed\")\n",
    "    else:\n",
    "      print(\"Task not found\")\n",
    "  elif choice == \"3\":\n",
    "    print(\"Tasks:\")\n",
    "    for i, task in enumerate(tasks):\n",
    "      print(f\"{i+1}. {task}\")\n",
    "      Continue\n",
    "  elif choice == \"4\":\n",
    "    break"
   ]
  },
  {
   "cell_type": "code",
   "execution_count": null,
   "metadata": {
    "colab": {
     "base_uri": "https://localhost:8080/"
    },
    "executionInfo": {
     "elapsed": 64,
     "status": "ok",
     "timestamp": 1742489440180,
     "user": {
      "displayName": "Aravindh G",
      "userId": "04385603378061808080"
     },
     "user_tz": -330
    },
    "id": "LVrejeu4bp4n",
    "outputId": "afe0d1d2-71d2-4c82-a602-5602637ed50e"
   },
   "outputs": [
    {
     "name": "stdout",
     "output_type": "stream",
     "text": [
      "Task marked as completed two\n",
      "1 one\n",
      "2 three\n"
     ]
    }
   ],
   "source": [
    "tasks = [\"one\",\"two\",\"three\"]\n",
    "task = \"two\"\n",
    "if task in tasks:\n",
    "      pop = tasks.pop(tasks.index(task))\n",
    "      print(\"Task marked as completed\",pop)\n",
    "      for index, tasks in enumerate(tasks, start=1):\n",
    "        print(index, tasks)"
   ]
  },
  {
   "cell_type": "markdown",
   "metadata": {
    "id": "Uvn6vc6fZR79"
   },
   "source": [
    "# Accessing and Manipulating elements"
   ]
  },
  {
   "cell_type": "code",
   "execution_count": null,
   "metadata": {
    "colab": {
     "base_uri": "https://localhost:8080/"
    },
    "executionInfo": {
     "elapsed": 26,
     "status": "ok",
     "timestamp": 1742490063505,
     "user": {
      "displayName": "Aravindh G",
      "userId": "04385603378061808080"
     },
     "user_tz": -330
    },
    "id": "Gn5FMMlofePV",
    "outputId": "7076b5c7-525e-4d55-e965-1eeecd8bbf2e"
   },
   "outputs": [
    {
     "name": "stdout",
     "output_type": "stream",
     "text": [
      "2\n",
      "5\n",
      "[4, 5]\n",
      "[2, 3]\n"
     ]
    }
   ],
   "source": [
    "index = [1,2,3,4,5]\n",
    "print(index[1]) #indexing\n",
    "print(index[-1]) #negative index\n",
    "print(index[1:3]) #slicing\n",
    "print(index[3:]) #omitting index\n"
   ]
  },
  {
   "cell_type": "code",
   "execution_count": null,
   "metadata": {
    "colab": {
     "base_uri": "https://localhost:8080/"
    },
    "executionInfo": {
     "elapsed": 59,
     "status": "ok",
     "timestamp": 1742873164834,
     "user": {
      "displayName": "Aravindh G",
      "userId": "04385603378061808080"
     },
     "user_tz": -330
    },
    "id": "GluNOBEmhFRq",
    "outputId": "c47a0be3-7072-4f88-bda7-5f51d5ca8883"
   },
   "outputs": [
    {
     "name": "stdout",
     "output_type": "stream",
     "text": [
      "[1, 11, 2, 3, 4, 5, 6, 6, 7, 8, 9, 10]\n",
      "{1, 2, 3, 4, 5, 6, 7, 8, 9, 10, 11}\n",
      "[1, 11, 2, 3, 4, 5, 6, 6, 7, 8, 9, 12]\n",
      "{1, 2, 3, 4, 5, 6, 7, 8, 9, 11, 12}\n",
      "[]\n",
      "{6, 7, 8, 9, 10}\n"
     ]
    }
   ],
   "source": [
    "index = [1,2,3,4,5]\n",
    "index2 = [6,7,8,9,10]\n",
    "index.append(6)\n",
    "index.insert(1,11)\n",
    "index.extend(index2)\n",
    "print(index)\n",
    "print(set(index))\n",
    "index[-1] = 12\n",
    "print(index)\n",
    "print(set(index))\n",
    "index.clear()\n",
    "print(index)"
   ]
  },
  {
   "cell_type": "code",
   "execution_count": null,
   "metadata": {
    "colab": {
     "base_uri": "https://localhost:8080/"
    },
    "executionInfo": {
     "elapsed": 27,
     "status": "ok",
     "timestamp": 1742491770231,
     "user": {
      "displayName": "Aravindh G",
      "userId": "04385603378061808080"
     },
     "user_tz": -330
    },
    "id": "so5yhexFl5_Z",
    "outputId": "7cbf821c-49a8-412d-b0d0-bb4ce9b27896"
   },
   "outputs": [
    {
     "name": "stdout",
     "output_type": "stream",
     "text": [
      "(1, 2, 3, 4, 5)\n",
      "{1, 2, 3, 4, 5}\n",
      "(1, 2, 3, 4, 5)\n",
      "{1, 2, 3, 4, 5}\n",
      "(1, 2, 3, 4, 5)\n"
     ]
    }
   ],
   "source": [
    "index = (1,2,3,4,5)\n",
    "index2 =(6,7,8,9,10)\n",
    "#index.append(6,) Immutable\n",
    "#index.insert(1,11) Immutable\n",
    "#index.extend(index2) Immutable\n",
    "print(index)\n",
    "print(set(index))\n",
    "#index[-1] = 12 Immutable\n",
    "print(index)\n",
    "print(set(index))\n",
    "print(index)"
   ]
  },
  {
   "cell_type": "markdown",
   "metadata": {
    "id": "LEc8OLbUeC8b"
   },
   "source": [
    "# Packing and Unpacking"
   ]
  },
  {
   "cell_type": "code",
   "execution_count": null,
   "metadata": {
    "colab": {
     "base_uri": "https://localhost:8080/"
    },
    "executionInfo": {
     "elapsed": 45,
     "status": "ok",
     "timestamp": 1742872843258,
     "user": {
      "displayName": "Aravindh G",
      "userId": "04385603378061808080"
     },
     "user_tz": -330
    },
    "id": "5WAR6YD-mnO9",
    "outputId": "7d799898-87d3-445c-898d-b5ddc1c48404"
   },
   "outputs": [
    {
     "name": "stdout",
     "output_type": "stream",
     "text": [
      "1\n",
      "apple\n",
      "5.3\n",
      "2\n",
      "1\n"
     ]
    }
   ],
   "source": [
    "#unpack\n",
    "unpack = (1,\"apple\",5.3,1,\"apple\")\n",
    "a,b,c,d,e = unpack\n",
    "print(a)\n",
    "print(b)\n",
    "print(c)\n",
    "print(unpack.count(1))\n",
    "print(unpack.index(\"apple\"))"
   ]
  },
  {
   "cell_type": "code",
   "execution_count": null,
   "metadata": {
    "colab": {
     "base_uri": "https://localhost:8080/"
    },
    "executionInfo": {
     "elapsed": 587,
     "status": "ok",
     "timestamp": 1742521853337,
     "user": {
      "displayName": "Aravindh G",
      "userId": "04385603378061808080"
     },
     "user_tz": -330
    },
    "id": "zsrOKYPCZVSY",
    "outputId": "8cf7ee26-21da-4e73-b715-efd6b5875b9b"
   },
   "outputs": [
    {
     "name": "stdout",
     "output_type": "stream",
     "text": [
      "(1, 'apple', 5.3, 1)\n"
     ]
    }
   ],
   "source": [
    "#pack\n",
    "pack = a,b,c,d\n",
    "print(pack)"
   ]
  },
  {
   "cell_type": "markdown",
   "metadata": {
    "id": "aoTOtq9peQzF"
   },
   "source": [
    "# Operations on Sets"
   ]
  },
  {
   "cell_type": "code",
   "execution_count": null,
   "metadata": {
    "colab": {
     "base_uri": "https://localhost:8080/"
    },
    "executionInfo": {
     "elapsed": 70,
     "status": "ok",
     "timestamp": 1742873253898,
     "user": {
      "displayName": "Aravindh G",
      "userId": "04385603378061808080"
     },
     "user_tz": -330
    },
    "id": "36A1vwoMeli9",
    "outputId": "0da2edf4-f326-411f-ab09-3f0bcfd96b0b"
   },
   "outputs": [
    {
     "name": "stdout",
     "output_type": "stream",
     "text": [
      "{1, 2, 3}\n",
      "{3, 4, 5}\n",
      "{1, 2, 3, 4, 5}\n",
      "{3}\n",
      "{1, 2}\n",
      "4 is in set2\n"
     ]
    }
   ],
   "source": [
    "set1 = set(range(1,4))\n",
    "set2 = set(range(3,6))\n",
    "print(set1)\n",
    "print(set2)\n",
    "\n",
    "union = set1.union(set2)\n",
    "print(union)\n",
    "intersection = set1.intersection(set2)\n",
    "print(intersection)\n",
    "difference = set1.difference(set2)\n",
    "print(difference)\n",
    "\n",
    "if 4 in set1:\n",
    "  print(\"4 is in set1\")\n",
    "elif 4 in set2:\n",
    "  print(\"4 is in set2\")\n",
    "else:\n",
    "  print(\"4 is not in set1 and set2\")"
   ]
  },
  {
   "cell_type": "code",
   "execution_count": null,
   "metadata": {
    "colab": {
     "base_uri": "https://localhost:8080/"
    },
    "executionInfo": {
     "elapsed": 13,
     "status": "ok",
     "timestamp": 1742522847522,
     "user": {
      "displayName": "Aravindh G",
      "userId": "04385603378061808080"
     },
     "user_tz": -330
    },
    "id": "m45VpTR1aVdG",
    "outputId": "a2a386b0-3a6b-4ad5-ac57-62faf8566bb5"
   },
   "outputs": [
    {
     "name": "stdout",
     "output_type": "stream",
     "text": [
      "{'apple', 1, 5.3}\n",
      "{1, 5.3}\n",
      "1\n",
      "5.3\n"
     ]
    }
   ],
   "source": [
    "set_pack = set(pack)\n",
    "print(set_pack)\n",
    "set_pack.discard(\"apple\")\n",
    "#set_pack.remove(\"apple\")\n",
    "#a = set_pack.pop() #Sets doesn't have index\n",
    "print(set_pack)\n",
    "for i in set_pack:\n",
    "  print(i)"
   ]
  },
  {
   "cell_type": "markdown",
   "metadata": {
    "id": "HIz1PH1DkQRD"
   },
   "source": [
    "# Frozen set"
   ]
  },
  {
   "cell_type": "code",
   "execution_count": null,
   "metadata": {
    "colab": {
     "base_uri": "https://localhost:8080/"
    },
    "executionInfo": {
     "elapsed": 11,
     "status": "ok",
     "timestamp": 1742524689687,
     "user": {
      "displayName": "Aravindh G",
      "userId": "04385603378061808080"
     },
     "user_tz": -330
    },
    "id": "tk8vGsQ5jMfJ",
    "outputId": "68d4e5fb-40eb-4067-9a3e-e4804d33c77b"
   },
   "outputs": [
    {
     "name": "stdout",
     "output_type": "stream",
     "text": [
      "frozenset({1, 2, 3, 4})\n"
     ]
    }
   ],
   "source": [
    "frozen_set = frozenset(range(1,5))\n",
    "print(frozen_set)\n",
    "#print(frozen_set.add(1)) # frozenset is immutable and so you can't add elements to it.\n"
   ]
  },
  {
   "cell_type": "markdown",
   "metadata": {
    "id": "5X0FA7B6kVed"
   },
   "source": [
    "# Dictionaries and their operations"
   ]
  },
  {
   "cell_type": "code",
   "execution_count": null,
   "metadata": {
    "colab": {
     "base_uri": "https://localhost:8080/"
    },
    "executionInfo": {
     "elapsed": 333,
     "status": "ok",
     "timestamp": 1742532061833,
     "user": {
      "displayName": "Aravindh G",
      "userId": "04385603378061808080"
     },
     "user_tz": -330
    },
    "id": "tF30-tKZkUgt",
    "outputId": "bccb96bd-101c-47b2-f9f1-f58083492b39"
   },
   "outputs": [
    {
     "name": "stdout",
     "output_type": "stream",
     "text": [
      "{'name': 'Cena', 'age': 28}\n",
      "{'name': 'Undertaker', 'age': 28, 'place': 'cbe'}\n",
      "{'name': 'Undertaker', 'age': 28}\n",
      "dict_keys(['name', 'age'])\n",
      "dict_values(['Undertaker', 28])\n",
      "dict_items([('name', 'Undertaker'), ('age', 28)])\n",
      "Undertaker\n"
     ]
    }
   ],
   "source": [
    "my_dict = {}\n",
    "my_dict[\"name\"] = \"Cena\"\n",
    "my_dict[\"age\"] = 28\n",
    "print(my_dict)\n",
    "my_dict[\"name\"] = \"Undertaker\"\n",
    "my_dict[\"place\"] = \"cbe\"\n",
    "print(my_dict)\n",
    "del my_dict[\"place\"]\n",
    "print(my_dict)\n",
    "print(my_dict.keys())\n",
    "print(my_dict.values())\n",
    "print(my_dict.items())\n",
    "print(my_dict.get(\"name\"))"
   ]
  },
  {
   "cell_type": "code",
   "execution_count": null,
   "metadata": {
    "colab": {
     "base_uri": "https://localhost:8080/"
    },
    "executionInfo": {
     "elapsed": 41,
     "status": "ok",
     "timestamp": 1742873488282,
     "user": {
      "displayName": "Aravindh G",
      "userId": "04385603378061808080"
     },
     "user_tz": -330
    },
    "id": "fmw-pHidATYI",
    "outputId": "139e2ba5-1fc4-45f0-ec02-b15f59f1f870"
   },
   "outputs": [
    {
     "name": "stdout",
     "output_type": "stream",
     "text": [
      "{'name': 'Cena', 'age': 28}\n",
      "name Cena\n",
      "age 28\n",
      "1 name Cena\n",
      "2 age 28\n"
     ]
    }
   ],
   "source": [
    "my_dict = {}\n",
    "my_dict[\"name\"] = \"Cena\"\n",
    "my_dict[\"age\"] = 28\n",
    "print(my_dict)\n",
    "\n",
    "#Iteration\n",
    "for key in my_dict:\n",
    "  print(key, my_dict[key])\n",
    "\n",
    "#Iteration\n",
    "for i, key in enumerate(my_dict):\n",
    "  print(i+1, key, my_dict[key])"
   ]
  },
  {
   "cell_type": "markdown",
   "metadata": {
    "id": "M0HslZaLOzaY"
   },
   "source": [
    "# List comprehension"
   ]
  },
  {
   "cell_type": "code",
   "execution_count": null,
   "metadata": {
    "colab": {
     "base_uri": "https://localhost:8080/"
    },
    "executionInfo": {
     "elapsed": 170,
     "status": "ok",
     "timestamp": 1742873678871,
     "user": {
      "displayName": "Aravindh G",
      "userId": "04385603378061808080"
     },
     "user_tz": -330
    },
    "id": "Jtf_3gDCerO8",
    "outputId": "bd35a558-e5af-413a-b737-84aecba23ab7"
   },
   "outputs": [
    {
     "name": "stdout",
     "output_type": "stream",
     "text": [
      "[1, 4, 9, 16, 25]\n",
      "[2, 4]\n"
     ]
    }
   ],
   "source": [
    "a = [1,2,3,4,5]\n",
    "b = [i**2 for i in a]\n",
    "c = [i for i in a if i%2==0]\n",
    "print(b)\n",
    "print(c)"
   ]
  },
  {
   "cell_type": "markdown",
   "metadata": {
    "id": "XWN-Urp3kP8K"
   },
   "source": [
    "# Generator Expression"
   ]
  },
  {
   "cell_type": "code",
   "execution_count": null,
   "metadata": {
    "colab": {
     "base_uri": "https://localhost:8080/"
    },
    "executionInfo": {
     "elapsed": 2,
     "status": "ok",
     "timestamp": 1742541545646,
     "user": {
      "displayName": "Aravindh G",
      "userId": "04385603378061808080"
     },
     "user_tz": -330
    },
    "id": "Ot4Mwu5qkW11",
    "outputId": "83435e9d-5fb1-476f-f723-c21981405456"
   },
   "outputs": [
    {
     "name": "stdout",
     "output_type": "stream",
     "text": [
      "<generator object <genexpr> at 0x7dd2c4f1b9f0>\n",
      "<generator object <genexpr> at 0x7dd2c4f1bb90>\n",
      "[1, 4, 9, 16, 25]\n",
      "[2, 4]\n"
     ]
    }
   ],
   "source": [
    "d = (i**2 for i in range(1,6))\n",
    "e = (i for i in range(1,6) if i%2==0)\n",
    "print(d)\n",
    "print(e)\n",
    "print(list(d))\n",
    "print(list(e))"
   ]
  },
  {
   "cell_type": "markdown",
   "metadata": {
    "id": "rT-W8RJe3_vh"
   },
   "source": [
    "# Working with files and I/O operations"
   ]
  },
  {
   "cell_type": "code",
   "execution_count": null,
   "metadata": {
    "colab": {
     "base_uri": "https://localhost:8080/"
    },
    "executionInfo": {
     "elapsed": 50,
     "status": "ok",
     "timestamp": 1742560679466,
     "user": {
      "displayName": "Aravindh G",
      "userId": "04385603378061808080"
     },
     "user_tz": -330
    },
    "id": "pnNQGapj7Gi2",
    "outputId": "c6ff519c-d891-4876-da34-70e218c83ffb"
   },
   "outputs": [
    {
     "name": "stdout",
     "output_type": "stream",
     "text": [
      "This is a new line\n",
      "This is another line\n",
      "Append a new line\n"
     ]
    }
   ],
   "source": [
    "file = open(\"output.txt\",\"w\")\n",
    "with open(\"output.txt\",\"w\") as a:\n",
    "  a.write(\"This is a new line\")\n",
    "  a.write(\"\\nThis is another line\")\n",
    "  a.write(\"\\nAppend a new line\")\n",
    "with open(\"output.txt\",\"r\") as r:\n",
    "  line = r.read()\n",
    "  print(line)"
   ]
  },
  {
   "cell_type": "markdown",
   "metadata": {
    "id": "EotzyIDC9IGQ"
   },
   "source": [
    "# Error Handling"
   ]
  },
  {
   "cell_type": "markdown",
   "metadata": {
    "id": "VUHq8uDt5Pmi"
   },
   "source": []
  },
  {
   "cell_type": "code",
   "execution_count": null,
   "metadata": {
    "colab": {
     "base_uri": "https://localhost:8080/"
    },
    "executionInfo": {
     "elapsed": 22,
     "status": "ok",
     "timestamp": 1742560959566,
     "user": {
      "displayName": "Aravindh G",
      "userId": "04385603378061808080"
     },
     "user_tz": -330
    },
    "id": "RXYA0v0u9Nds",
    "outputId": "f3efce6f-5e43-4f52-9ca9-665c79c0aa06"
   },
   "outputs": [
    {
     "name": "stdout",
     "output_type": "stream",
     "text": [
      "This is a new line\n",
      "This is another line\n",
      "Append a new line\n",
      "File Closed\n"
     ]
    }
   ],
   "source": [
    "try:\n",
    "    with open(\"output.txt\",\"r\") as r:\n",
    "      line = r.read()\n",
    "except FileNotFoundError:\n",
    "  print(\"File not found\")\n",
    "except Exception as e:\n",
    "  print(e)\n",
    "else:\n",
    "  print(line)\n",
    "finally:\n",
    "  r.close()\n",
    "  print(\"File Closed\")\n"
   ]
  },
  {
   "cell_type": "code",
   "execution_count": 11,
   "metadata": {},
   "outputs": [
    {
     "name": "stdout",
     "output_type": "stream",
     "text": [
      "ABCDE\n",
      "File Closed\n"
     ]
    }
   ],
   "source": [
    "with open(f\"G:\\\\DIY Guru\\\\Others\\\\test.txt\",\"r\") as r:\n",
    "  line = r.read()\n",
    "  print(line)\n",
    "  print(\"File Closed\")"
   ]
  }
 ],
 "metadata": {
  "colab": {
   "authorship_tag": "ABX9TyMcVjNtYBj0QxSN2EdvdGOq",
   "gpuType": "T4",
   "provenance": [],
   "toc_visible": true
  },
  "kernelspec": {
   "display_name": ".venv",
   "language": "python",
   "name": "python3"
  },
  "language_info": {
   "codemirror_mode": {
    "name": "ipython",
    "version": 3
   },
   "file_extension": ".py",
   "mimetype": "text/x-python",
   "name": "python",
   "nbconvert_exporter": "python",
   "pygments_lexer": "ipython3",
   "version": "3.12.2"
  }
 },
 "nbformat": 4,
 "nbformat_minor": 0
}
